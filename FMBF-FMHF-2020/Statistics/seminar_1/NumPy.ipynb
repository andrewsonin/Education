{
 "cells": [
  {
   "cell_type": "markdown",
   "metadata": {},
   "source": [
    "# NumPy\n",
    "[Библиотека](https://numpy.org) для работы с массивами произвольной размерности (N-dimensional array или `ndarray`) и линейной алгебры над ними.\n",
    "\n",
    "Рекомендуемое ядро для запуска кода: `Python v3.7` или выше."
   ]
  },
  {
   "cell_type": "code",
   "execution_count": 1,
   "metadata": {},
   "outputs": [
    {
     "name": "stdout",
     "output_type": "stream",
     "text": [
      "Пример работы функции 'to_data_dir': class_data/test.file\n"
     ]
    }
   ],
   "source": [
    "from os import mkdir\n",
    "from os.path import isdir, join as join_path\n",
    "from functools import partial\n",
    "from warnings import filterwarnings\n",
    "\n",
    "import numpy as np\n",
    "\n",
    "\n",
    "filterwarnings('ignore')\n",
    "\n",
    "DATA_DIR = 'class_data/'  # Папка, куда мы будем сохранять все файлы\n",
    "if not isdir(DATA_DIR):\n",
    "    mkdir(DATA_DIR)\n",
    "\n",
    "to_data_dir = partial(join_path, DATA_DIR)\n",
    "print(f\"Пример работы функции 'to_data_dir': {to_data_dir('test.file')}\")"
   ]
  },
  {
   "cell_type": "markdown",
   "metadata": {},
   "source": [
    "## Инициализация\n",
    "### Одномерные массивы (векторы)\n",
    "#### Можно получить из `list`"
   ]
  },
  {
   "cell_type": "code",
   "execution_count": 2,
   "metadata": {},
   "outputs": [
    {
     "name": "stdout",
     "output_type": "stream",
     "text": [
      "[2 3 4]\n"
     ]
    }
   ],
   "source": [
    "arr = np.array([2, 3, 4])\n",
    "print(arr)"
   ]
  },
  {
   "cell_type": "markdown",
   "metadata": {},
   "source": [
    "#### Можно получить из `tuple`\n",
    "\n",
    "Результат &mdash; тот же!"
   ]
  },
  {
   "cell_type": "code",
   "execution_count": 3,
   "metadata": {},
   "outputs": [
    {
     "name": "stdout",
     "output_type": "stream",
     "text": [
      "[2 3 4]\n"
     ]
    }
   ],
   "source": [
    "arr = np.array((2, 3, 4))\n",
    "print(arr)"
   ]
  },
  {
   "cell_type": "markdown",
   "metadata": {},
   "source": [
    "#### Можно получить из `range`"
   ]
  },
  {
   "cell_type": "code",
   "execution_count": 4,
   "metadata": {},
   "outputs": [
    {
     "name": "stdout",
     "output_type": "stream",
     "text": [
      "[2 3 4]\n"
     ]
    }
   ],
   "source": [
    "arr = np.array(range(2, 5))\n",
    "print(arr)"
   ]
  },
  {
   "cell_type": "code",
   "execution_count": 5,
   "metadata": {},
   "outputs": [
    {
     "name": "stdout",
     "output_type": "stream",
     "text": [
      "[2 3 4]\n"
     ]
    }
   ],
   "source": [
    "arr = np.arange(2, 5)  # То же самое, но чуточку быстрее\n",
    "print(arr)"
   ]
  },
  {
   "cell_type": "markdown",
   "metadata": {},
   "source": [
    "#### Да хоть из произвольного итерируемого объекта!"
   ]
  },
  {
   "cell_type": "code",
   "execution_count": 6,
   "metadata": {},
   "outputs": [
    {
     "name": "stdout",
     "output_type": "stream",
     "text": [
      "[2 3 4]\n"
     ]
    }
   ],
   "source": [
    "arr = np.fromiter(range(2, 5), dtype=int)\n",
    "print(arr)"
   ]
  },
  {
   "cell_type": "markdown",
   "metadata": {},
   "source": [
    "А зачем нужен `dtype` &mdash; поговорим потом"
   ]
  },
  {
   "cell_type": "code",
   "execution_count": 7,
   "metadata": {},
   "outputs": [
    {
     "name": "stdout",
     "output_type": "stream",
     "text": [
      "[2 3 4]\n"
     ]
    }
   ],
   "source": [
    "arr = np.fromiter([2, 3, 4], dtype=int)\n",
    "print(arr)"
   ]
  },
  {
   "cell_type": "code",
   "execution_count": 8,
   "metadata": {},
   "outputs": [
    {
     "name": "stdout",
     "output_type": "stream",
     "text": [
      "[ 4  9 16]\n"
     ]
    }
   ],
   "source": [
    "def from_2_to_4():\n",
    "    for i in range(2, 5):\n",
    "        yield i ** 2   # Ленивое вычисление квадратов 2-х, 3-х и 4-х\n",
    "                       # Медленный аналог map(lambda x: x ** 2, range(2, 5))\n",
    "\n",
    "\n",
    "arr = np.fromiter(from_2_to_4(), dtype=int)\n",
    "print(arr)"
   ]
  },
  {
   "cell_type": "code",
   "execution_count": 9,
   "metadata": {},
   "outputs": [
    {
     "name": "stdout",
     "output_type": "stream",
     "text": [
      "[ 0  2  4  6  8 10]\n"
     ]
    }
   ],
   "source": [
    "# Все чётные от 0 до 10\n",
    "arr = np.fromiter((i for i in range(0, 11) if i % 2 == 0), dtype=int)\n",
    "print(arr)"
   ]
  },
  {
   "cell_type": "code",
   "execution_count": 10,
   "metadata": {},
   "outputs": [
    {
     "name": "stdout",
     "output_type": "stream",
     "text": [
      "[ 0  2  4  6  8 10]\n"
     ]
    }
   ],
   "source": [
    "# То же самое\n",
    "arr = np.fromiter(\n",
    "    filter(lambda x: x % 2 == 0, range(0, 11)),\n",
    "    dtype=int\n",
    ")\n",
    "print(arr)"
   ]
  },
  {
   "cell_type": "code",
   "execution_count": 11,
   "metadata": {},
   "outputs": [
    {
     "name": "stdout",
     "output_type": "stream",
     "text": [
      "[0.   0.75 1.5  2.25 3.  ]\n"
     ]
    }
   ],
   "source": [
    "print(\n",
    "    np.linspace(0, 3, 5)\n",
    ")  # 5 значений на равном удалении между 0 и 3"
   ]
  },
  {
   "cell_type": "code",
   "execution_count": 12,
   "metadata": {},
   "outputs": [
    {
     "name": "stdout",
     "output_type": "stream",
     "text": [
      "[   1.            5.62341325   31.6227766   177.827941   1000.        ]\n"
     ]
    }
   ],
   "source": [
    "print(\n",
    "    np.logspace(0, 3, 5)\n",
    ")  # то же самое, только в логарифмическом масштабе"
   ]
  },
  {
   "cell_type": "code",
   "execution_count": 13,
   "metadata": {},
   "outputs": [
    {
     "data": {
      "text/plain": [
       "[array([ 32, 332,  32]), array([   32, -2332,   435]), array([3])]"
      ]
     },
     "execution_count": 13,
     "metadata": {},
     "output_type": "execute_result"
    }
   ],
   "source": [
    "arr = np.array([32, 332, 32, 32, -2332, 435, 3])\n",
    "\n",
    "np.hsplit(arr, (3, 6))  # Расщепление массива в позициях 3 и 6"
   ]
  },
  {
   "cell_type": "markdown",
   "metadata": {},
   "source": [
    "#### Также можно считать из файла"
   ]
  },
  {
   "cell_type": "code",
   "execution_count": 14,
   "metadata": {},
   "outputs": [
    {
     "name": "stdout",
     "output_type": "stream",
     "text": [
      "[2 3 4]\n"
     ]
    }
   ],
   "source": [
    "file_content = '2 3 4'                        # 2, 3, 4 через пробел\n",
    "with open(to_data_dir('temp_arr.txt'), 'w') as out:\n",
    "    out.write(file_content)\n",
    "\n",
    "arr = np.loadtxt(to_data_dir('temp_arr.txt'), dtype=int)\n",
    "print(arr)"
   ]
  },
  {
   "cell_type": "code",
   "execution_count": 15,
   "metadata": {},
   "outputs": [
    {
     "name": "stdout",
     "output_type": "stream",
     "text": [
      "[2 3 4]\n"
     ]
    }
   ],
   "source": [
    "file_content = '\\n'.join('234')               # 2, 3, 4 все на новой строке\n",
    "with open(to_data_dir('temp_arr.txt'), 'w') as out:\n",
    "    out.write(file_content)\n",
    "\n",
    "arr = np.loadtxt(to_data_dir('temp_arr.txt'), dtype=int)\n",
    "print(arr)                                   # То же самое!"
   ]
  },
  {
   "cell_type": "code",
   "execution_count": 16,
   "metadata": {},
   "outputs": [
    {
     "name": "stdout",
     "output_type": "stream",
     "text": [
      "['First_string' 'Second_string' '3rd_string']\n",
      "Тип элементов массива: <U13\n"
     ]
    }
   ],
   "source": [
    "file_content = '\\n'.join(('First_string', 'Second_string', '3rd_string'))\n",
    "with open(to_data_dir('temp_arr.txt'), 'w') as out:\n",
    "    out.write(file_content)\n",
    "\n",
    "arr = np.loadtxt(to_data_dir('temp_arr.txt'), dtype=str)\n",
    "print(arr)\n",
    "print(f'Тип элементов массива: {arr.dtype}')"
   ]
  },
  {
   "cell_type": "markdown",
   "metadata": {},
   "source": [
    "Этот тип означает *строку размера не более 13 символов*."
   ]
  },
  {
   "cell_type": "markdown",
   "metadata": {},
   "source": [
    "#### Можно и сохранить в файл"
   ]
  },
  {
   "cell_type": "code",
   "execution_count": 17,
   "metadata": {},
   "outputs": [
    {
     "name": "stdout",
     "output_type": "stream",
     "text": [
      "[[1 2 3]\n",
      " [4 5 6]]\n",
      "integer_array.tsv\n",
      "\n",
      "1\t2\t3\n",
      "4\t5\t6\n",
      "\n"
     ]
    }
   ],
   "source": [
    "arr = np.array(\n",
    "    [[1, 2, 3],\n",
    "     [4, 5, 6]]\n",
    ")\n",
    "\n",
    "print(arr)\n",
    "\n",
    "cur_file = to_data_dir('integer_array.tsv')\n",
    "\n",
    "np.savetxt(cur_file, arr, fmt='%i', delimiter='\\t')\n",
    "print('integer_array.tsv\\n')\n",
    "\n",
    "with open(cur_file, 'r') as out:\n",
    "    print(''.join(out.readlines()))"
   ]
  },
  {
   "cell_type": "code",
   "execution_count": 18,
   "metadata": {},
   "outputs": [
    {
     "name": "stdout",
     "output_type": "stream",
     "text": [
      "\n",
      "integer_array.csv\n",
      "\n",
      "1;2;3\n",
      "4;5;6\n",
      "\n"
     ]
    }
   ],
   "source": [
    "cur_file = to_data_dir('integer_array.csv')\n",
    "\n",
    "np.savetxt(cur_file, arr, fmt='%i', delimiter=';')\n",
    "print('\\ninteger_array.csv\\n')\n",
    "\n",
    "with open(cur_file, 'r') as out:\n",
    "    print(''.join(out.readlines()))"
   ]
  },
  {
   "cell_type": "code",
   "execution_count": 19,
   "metadata": {},
   "outputs": [
    {
     "name": "stdout",
     "output_type": "stream",
     "text": [
      "integer_array.tsv\n",
      "\n",
      "1\t2\t3\n",
      "4\t5\t6\n",
      "\n"
     ]
    }
   ],
   "source": [
    "arr = np.array(\n",
    "    [[1.4325,       2.435,    3.345],\n",
    "     [4.435345, 5.3454352, 6.543345]]\n",
    ")\n",
    "\n",
    "cur_file = to_data_dir('integer_array.tsv')\n",
    "\n",
    "np.savetxt(cur_file, arr, fmt='%i', delimiter='\\t')\n",
    "print('integer_array.tsv\\n')\n",
    "\n",
    "with open(cur_file, 'r') as out:\n",
    "    print(''.join(out.readlines()))"
   ]
  },
  {
   "cell_type": "code",
   "execution_count": 20,
   "metadata": {},
   "outputs": [
    {
     "name": "stdout",
     "output_type": "stream",
     "text": [
      "\n",
      "integer_array.csv\n",
      "\n",
      "1;2;3\n",
      "4;5;6\n",
      "\n"
     ]
    }
   ],
   "source": [
    "cur_file = to_data_dir('integer_array.csv')\n",
    "\n",
    "np.savetxt(cur_file, arr, fmt='%i', delimiter=';')\n",
    "print('\\ninteger_array.csv\\n')\n",
    "\n",
    "with open(cur_file, 'r') as out:\n",
    "    print(''.join(out.readlines()))"
   ]
  },
  {
   "cell_type": "code",
   "execution_count": 21,
   "metadata": {},
   "outputs": [
    {
     "name": "stdout",
     "output_type": "stream",
     "text": [
      "\n",
      "float_array.tsv\n",
      "\n",
      "1.43\t2.44\t3.35\n",
      "4.44\t5.35\t6.54\n",
      "\n"
     ]
    }
   ],
   "source": [
    "cur_file = to_data_dir('float_array.tsv')\n",
    "\n",
    "np.savetxt(cur_file, arr, fmt='%.2f', delimiter='\\t')  # 2 в fmt - это точность сохранения\n",
    "print('\\nfloat_array.tsv\\n')\n",
    "\n",
    "with open(cur_file, 'r') as out:\n",
    "    print(''.join(out.readlines()))"
   ]
  },
  {
   "cell_type": "code",
   "execution_count": 22,
   "metadata": {},
   "outputs": [
    {
     "name": "stdout",
     "output_type": "stream",
     "text": [
      "\n",
      "float_array.csv\n",
      "\n",
      "1.43250;2.43500;3.34500\n",
      "4.43534;5.34544;6.54335\n",
      "\n"
     ]
    }
   ],
   "source": [
    "cur_file = to_data_dir('float_array.csv')\n",
    "\n",
    "np.savetxt(cur_file, arr, fmt='%.5f', delimiter=';')\n",
    "print('\\nfloat_array.csv\\n')\n",
    "\n",
    "with open(cur_file, 'r') as out:\n",
    "    print(''.join(out.readlines()))"
   ]
  },
  {
   "cell_type": "markdown",
   "metadata": {},
   "source": [
    "С описанием специфики `np.savetxt` лучше знакомиться по мере необходимости на [сайте](https://numpy.org/doc/1.18/reference/generated/numpy.savetxt.html) с документацией.\n",
    "\n",
    "#### Инициализация вставкой или удалением элементов\n",
    "\n",
    "<span style=\"color:red\">**ЭТО ВАЖНО!**</span>\n",
    "\n",
    "Основной спецификой `ndarray` является тот факт, что в него нельзя вставить/удалить элемент в произвольном месте, не переаллоциров весь массив. Это так по следующим причинам:\n",
    "- Вне зависимости от размерности (будь то это вектор, матрица, 3-тензор или 4-тензор и т.д.), `ndarray` представляется одним большим протяжённым линейным куском оперативной памяти\n",
    "- Операционные системы не могут расширять уже выделенные для работы программы куски оперативной памяти\n",
    "- Поэтому единственная возможность при вставке элемента в произвольное место массива &mdash; это\n",
    "  - Дополнительное выделение памяти большего размера в другом месте\n",
    "  - Полное копирование уже имеющегося массива туда\n",
    "  - И запись вставляемого значения в желаемое место в массиве\n",
    "\n",
    "Поэтому применение следующих операций в циклах может сильно замедлить вашу программу."
   ]
  },
  {
   "cell_type": "code",
   "execution_count": 23,
   "metadata": {},
   "outputs": [
    {
     "name": "stdout",
     "output_type": "stream",
     "text": [
      "[ 0  1  2  3  4  5  6  7  8  9 10 11 12 13 14 15 16 17 18 19]\n"
     ]
    }
   ],
   "source": [
    "arr = np.arange(20)\n",
    "print(arr)"
   ]
  },
  {
   "cell_type": "code",
   "execution_count": 24,
   "metadata": {},
   "outputs": [
    {
     "name": "stdout",
     "output_type": "stream",
     "text": [
      "[ 0  1  2  3  4  6  8  9 10 11 12 13 14 15 16 17 18 19]\n"
     ]
    }
   ],
   "source": [
    "print(\n",
    "    np.delete(arr, (5, 7))\n",
    ")  # Удаление элементов на позициях 5 и 7"
   ]
  },
  {
   "cell_type": "code",
   "execution_count": 25,
   "metadata": {},
   "outputs": [
    {
     "name": "stdout",
     "output_type": "stream",
     "text": [
      "[ 0  1  0  0  2  3  4  5  6  7  8  9 10 11 12 13 14 15 16 17 18 19]\n"
     ]
    }
   ],
   "source": [
    "print(\n",
    "    np.insert(arr, 2, [0, 0])\n",
    ")"
   ]
  },
  {
   "cell_type": "code",
   "execution_count": 26,
   "metadata": {},
   "outputs": [
    {
     "name": "stdout",
     "output_type": "stream",
     "text": [
      "[ 0  1  2  3  4  5  6  7  8  9 10 11 12 13 14 15 16 17 18 19  1  2  3]\n"
     ]
    }
   ],
   "source": [
    "print(\n",
    "    np.append(arr, [1, 2, 3])\n",
    ")"
   ]
  },
  {
   "cell_type": "markdown",
   "metadata": {},
   "source": [
    "### Двумерные массивы (матрицы)\n",
    "#### Из вложенных `list`"
   ]
  },
  {
   "cell_type": "code",
   "execution_count": 27,
   "metadata": {},
   "outputs": [
    {
     "name": "stdout",
     "output_type": "stream",
     "text": [
      "[[2 3 4]\n",
      " [5 6 7]]\n"
     ]
    }
   ],
   "source": [
    "arr = np.array(\n",
    "    [[2, 3, 4],\n",
    "     [5, 6, 7]]\n",
    ")\n",
    "print(arr)"
   ]
  },
  {
   "cell_type": "markdown",
   "metadata": {},
   "source": [
    "#### Да хоть так"
   ]
  },
  {
   "cell_type": "code",
   "execution_count": 28,
   "metadata": {},
   "outputs": [
    {
     "name": "stdout",
     "output_type": "stream",
     "text": [
      "[[2 3 4]\n",
      " [5 6 7]]\n"
     ]
    }
   ],
   "source": [
    "arr = np.array([range(2, 5), (5, 6, 7)])\n",
    "print(arr)"
   ]
  },
  {
   "cell_type": "code",
   "execution_count": 29,
   "metadata": {},
   "outputs": [
    {
     "name": "stdout",
     "output_type": "stream",
     "text": [
      "[[2 3 4]\n",
      " [5 6 7]]\n"
     ]
    }
   ],
   "source": [
    "arr = np.array((range(2, 5), (5, 6, 7)))\n",
    "print(arr)"
   ]
  },
  {
   "cell_type": "code",
   "execution_count": 30,
   "metadata": {},
   "outputs": [
    {
     "name": "stdout",
     "output_type": "stream",
     "text": [
      "[[2 3 4]\n",
      " [5 6 7]]\n"
     ]
    }
   ],
   "source": [
    "arr = np.array(\n",
    "    (\n",
    "        range(2, 5),\n",
    "        np.fromiter((i for i in (5, 6, 7)), dtype=int)\n",
    "    )\n",
    ")  # Естественно, это утрированный пример\n",
    "print(arr)"
   ]
  },
  {
   "cell_type": "code",
   "execution_count": 31,
   "metadata": {},
   "outputs": [
    {
     "name": "stdout",
     "output_type": "stream",
     "text": [
      "[[1 0 0 0 0]\n",
      " [0 1 0 0 0]\n",
      " [0 0 1 0 0]\n",
      " [0 0 0 1 0]\n",
      " [0 0 0 0 1]]\n"
     ]
    }
   ],
   "source": [
    "print(\n",
    "    np.eye(5, dtype=int)\n",
    ")  # Единичная матрица"
   ]
  },
  {
   "cell_type": "markdown",
   "metadata": {},
   "source": [
    "#### Конкатенация\n",
    "##### По строкам"
   ]
  },
  {
   "cell_type": "code",
   "execution_count": 32,
   "metadata": {},
   "outputs": [],
   "source": [
    "a = np.array(\n",
    "    [[0, 1],\n",
    "     [2, 3]]\n",
    ")\n",
    "b = np.array(\n",
    "    [[4, 5, 6],\n",
    "     [7, 8, 9]]\n",
    ")\n",
    "c = np.array(\n",
    "    [[4, 5],\n",
    "     [6, 7],\n",
    "     [8, 9]]\n",
    ")"
   ]
  },
  {
   "cell_type": "code",
   "execution_count": 33,
   "metadata": {},
   "outputs": [
    {
     "name": "stdout",
     "output_type": "stream",
     "text": [
      "[[0 1 4 5 6]\n",
      " [2 3 7 8 9]]\n"
     ]
    }
   ],
   "source": [
    "print(\n",
    "    np.hstack(\n",
    "        (a, b)\n",
    "    )\n",
    ")  # По строкам"
   ]
  },
  {
   "cell_type": "code",
   "execution_count": 34,
   "metadata": {},
   "outputs": [
    {
     "ename": "ValueError",
     "evalue": "all the input array dimensions for the concatenation axis must match exactly, but along dimension 1, the array at index 0 has size 2 and the array at index 1 has size 3",
     "output_type": "error",
     "traceback": [
      "\u001b[0;31m---------------------------------------------------------------------------\u001b[0m",
      "\u001b[0;31mValueError\u001b[0m                                Traceback (most recent call last)",
      "\u001b[0;32m<ipython-input-34-306d784f3006>\u001b[0m in \u001b[0;36m<module>\u001b[0;34m\u001b[0m\n\u001b[1;32m      1\u001b[0m print(\n\u001b[1;32m      2\u001b[0m     np.vstack(\n\u001b[0;32m----> 3\u001b[0;31m         \u001b[0;34m(\u001b[0m\u001b[0ma\u001b[0m\u001b[0;34m,\u001b[0m \u001b[0mb\u001b[0m\u001b[0;34m)\u001b[0m\u001b[0;34m\u001b[0m\u001b[0;34m\u001b[0m\u001b[0m\n\u001b[0m\u001b[1;32m      4\u001b[0m     )\n\u001b[1;32m      5\u001b[0m )  # По столбцам\n",
      "\u001b[0;32m<__array_function__ internals>\u001b[0m in \u001b[0;36mvstack\u001b[0;34m(*args, **kwargs)\u001b[0m\n",
      "\u001b[0;32m~/.programs/anaconda3/lib/python3.7/site-packages/numpy/core/shape_base.py\u001b[0m in \u001b[0;36mvstack\u001b[0;34m(tup)\u001b[0m\n\u001b[1;32m    281\u001b[0m     \u001b[0;32mif\u001b[0m \u001b[0;32mnot\u001b[0m \u001b[0misinstance\u001b[0m\u001b[0;34m(\u001b[0m\u001b[0marrs\u001b[0m\u001b[0;34m,\u001b[0m \u001b[0mlist\u001b[0m\u001b[0;34m)\u001b[0m\u001b[0;34m:\u001b[0m\u001b[0;34m\u001b[0m\u001b[0;34m\u001b[0m\u001b[0m\n\u001b[1;32m    282\u001b[0m         \u001b[0marrs\u001b[0m \u001b[0;34m=\u001b[0m \u001b[0;34m[\u001b[0m\u001b[0marrs\u001b[0m\u001b[0;34m]\u001b[0m\u001b[0;34m\u001b[0m\u001b[0;34m\u001b[0m\u001b[0m\n\u001b[0;32m--> 283\u001b[0;31m     \u001b[0;32mreturn\u001b[0m \u001b[0m_nx\u001b[0m\u001b[0;34m.\u001b[0m\u001b[0mconcatenate\u001b[0m\u001b[0;34m(\u001b[0m\u001b[0marrs\u001b[0m\u001b[0;34m,\u001b[0m \u001b[0;36m0\u001b[0m\u001b[0;34m)\u001b[0m\u001b[0;34m\u001b[0m\u001b[0;34m\u001b[0m\u001b[0m\n\u001b[0m\u001b[1;32m    284\u001b[0m \u001b[0;34m\u001b[0m\u001b[0m\n\u001b[1;32m    285\u001b[0m \u001b[0;34m\u001b[0m\u001b[0m\n",
      "\u001b[0;32m<__array_function__ internals>\u001b[0m in \u001b[0;36mconcatenate\u001b[0;34m(*args, **kwargs)\u001b[0m\n",
      "\u001b[0;31mValueError\u001b[0m: all the input array dimensions for the concatenation axis must match exactly, but along dimension 1, the array at index 0 has size 2 and the array at index 1 has size 3"
     ]
    }
   ],
   "source": [
    "print(\n",
    "    np.vstack(\n",
    "        (a, b)\n",
    "    )\n",
    ")  # По столбцам"
   ]
  },
  {
   "cell_type": "markdown",
   "metadata": {},
   "source": [
    "#### Чтение из файла"
   ]
  },
  {
   "cell_type": "code",
   "execution_count": 35,
   "metadata": {},
   "outputs": [
    {
     "name": "stdout",
     "output_type": "stream",
     "text": [
      "[[2 3 4]\n",
      " [5 6 7]]\n"
     ]
    }
   ],
   "source": [
    "file_content = ('2 3 4\\n'\n",
    "                '5 6 7')\n",
    "cur_file = to_data_dir('temp_arr.txt')\n",
    "with open(cur_file, 'w') as out:\n",
    "    out.write(file_content)\n",
    "\n",
    "arr = np.loadtxt(cur_file, dtype=int)\n",
    "print(arr)"
   ]
  },
  {
   "cell_type": "code",
   "execution_count": 36,
   "metadata": {},
   "outputs": [
    {
     "name": "stdout",
     "output_type": "stream",
     "text": [
      "[[2 3 4]\n",
      " [5 6 7]]\n"
     ]
    }
   ],
   "source": [
    "file_content = ('2_3_4\\n'\n",
    "                '5_6_7')\n",
    "cur_file = to_data_dir('temp_arr.txt')\n",
    "with open(cur_file, 'w') as out:\n",
    "    out.write(file_content)\n",
    "\n",
    "arr = np.loadtxt(cur_file, dtype=int, delimiter='_')\n",
    "print(arr)  "
   ]
  },
  {
   "cell_type": "markdown",
   "metadata": {},
   "source": [
    "Если вы хотите узнать количество строк и столбцов, воспользуйтесь атрибутом `shape`.\n",
    "\n",
    "Возвращает `tuple` длины размерности `ndarray`"
   ]
  },
  {
   "cell_type": "code",
   "execution_count": 37,
   "metadata": {},
   "outputs": [
    {
     "data": {
      "text/plain": [
       "(2, 3)"
      ]
     },
     "execution_count": 37,
     "metadata": {},
     "output_type": "execute_result"
    }
   ],
   "source": [
    "arr.shape"
   ]
  },
  {
   "cell_type": "code",
   "execution_count": 38,
   "metadata": {},
   "outputs": [],
   "source": [
    "arr = np.array([1, 2, 3])\n",
    "assert len(arr) == arr.shape[0]"
   ]
  },
  {
   "cell_type": "code",
   "execution_count": 39,
   "metadata": {},
   "outputs": [
    {
     "data": {
      "text/plain": [
       "(3,)"
      ]
     },
     "execution_count": 39,
     "metadata": {},
     "output_type": "execute_result"
    }
   ],
   "source": [
    "arr.shape"
   ]
  },
  {
   "cell_type": "markdown",
   "metadata": {},
   "source": [
    "### N-мерные массивы (n-тезоры)\n",
    "$\\huge T_{i_1,..i_n}$\n",
    "#### Из вложенных `list`, `tuple` и `range`"
   ]
  },
  {
   "cell_type": "code",
   "execution_count": 40,
   "metadata": {},
   "outputs": [
    {
     "name": "stdout",
     "output_type": "stream",
     "text": [
      "[[[2 3]\n",
      "  [4 5]]\n",
      "\n",
      " [[6 7]\n",
      "  [8 9]]]\n"
     ]
    }
   ],
   "source": [
    "arr = np.array([[[2, 3], [4, 5]], [[6, 7], [8, 9]]])\n",
    "print(arr)"
   ]
  },
  {
   "cell_type": "markdown",
   "metadata": {},
   "source": [
    "#### Или из одномерного массива путём переиндексации"
   ]
  },
  {
   "cell_type": "code",
   "execution_count": 41,
   "metadata": {},
   "outputs": [
    {
     "name": "stdout",
     "output_type": "stream",
     "text": [
      "[2 3 4 5 6 7 8 9]\n"
     ]
    }
   ],
   "source": [
    "arr = np.array(range(2, 10))\n",
    "print(arr)"
   ]
  },
  {
   "cell_type": "code",
   "execution_count": 42,
   "metadata": {},
   "outputs": [
    {
     "name": "stdout",
     "output_type": "stream",
     "text": [
      "[[[2 3]\n",
      "  [4 5]]\n",
      "\n",
      " [[6 7]\n",
      "  [8 9]]]\n"
     ]
    }
   ],
   "source": [
    "reshaped = arr.reshape(2, 2, 2)  # В 3-тензор\n",
    "print(reshaped)"
   ]
  },
  {
   "cell_type": "code",
   "execution_count": 43,
   "metadata": {},
   "outputs": [
    {
     "data": {
      "text/plain": [
       "(2, 2, 2)"
      ]
     },
     "execution_count": 43,
     "metadata": {},
     "output_type": "execute_result"
    }
   ],
   "source": [
    "reshaped.shape"
   ]
  },
  {
   "cell_type": "markdown",
   "metadata": {},
   "source": [
    "##### Или попросить вывести размерность индекса самостоятельно\n",
    "В данном случае &mdash; второго"
   ]
  },
  {
   "cell_type": "code",
   "execution_count": 44,
   "metadata": {},
   "outputs": [
    {
     "name": "stdout",
     "output_type": "stream",
     "text": [
      "[[[2 3]\n",
      "  [4 5]]\n",
      "\n",
      " [[6 7]\n",
      "  [8 9]]]\n"
     ]
    }
   ],
   "source": [
    "reshaped = arr.reshape(2, -1, 2)\n",
    "print(reshaped)"
   ]
  },
  {
   "cell_type": "markdown",
   "metadata": {},
   "source": [
    "##### Иногда сделать это невозможно"
   ]
  },
  {
   "cell_type": "code",
   "execution_count": 45,
   "metadata": {},
   "outputs": [
    {
     "name": "stdout",
     "output_type": "stream",
     "text": [
      "[ 2  3  4  5  6  7  8  9 10]\n"
     ]
    }
   ],
   "source": [
    "arr = np.array(range(2, 11))      # В массив добавили ещё один элемент - десятку\n",
    "print(arr)"
   ]
  },
  {
   "cell_type": "code",
   "execution_count": 46,
   "metadata": {},
   "outputs": [
    {
     "ename": "ValueError",
     "evalue": "cannot reshape array of size 9 into shape (2,newaxis,2)",
     "output_type": "error",
     "traceback": [
      "\u001b[0;31m---------------------------------------------------------------------------\u001b[0m",
      "\u001b[0;31mValueError\u001b[0m                                Traceback (most recent call last)",
      "\u001b[0;32m<ipython-input-46-b7e3ab62c276>\u001b[0m in \u001b[0;36m<module>\u001b[0;34m\u001b[0m\n\u001b[0;32m----> 1\u001b[0;31m \u001b[0mreshaped\u001b[0m \u001b[0;34m=\u001b[0m \u001b[0marr\u001b[0m\u001b[0;34m.\u001b[0m\u001b[0mreshape\u001b[0m\u001b[0;34m(\u001b[0m\u001b[0;36m2\u001b[0m\u001b[0;34m,\u001b[0m \u001b[0;34m-\u001b[0m\u001b[0;36m1\u001b[0m\u001b[0;34m,\u001b[0m \u001b[0;36m2\u001b[0m\u001b[0;34m)\u001b[0m  \u001b[0;31m# Выдаёт ошибку\u001b[0m\u001b[0;34m\u001b[0m\u001b[0;34m\u001b[0m\u001b[0m\n\u001b[0m",
      "\u001b[0;31mValueError\u001b[0m: cannot reshape array of size 9 into shape (2,newaxis,2)"
     ]
    }
   ],
   "source": [
    "reshaped = arr.reshape(2, -1, 2)  # Выдаёт ошибку"
   ]
  },
  {
   "cell_type": "markdown",
   "metadata": {},
   "source": [
    "##### Аналогично можно проинициализировать 4-тензор"
   ]
  },
  {
   "cell_type": "code",
   "execution_count": 47,
   "metadata": {},
   "outputs": [
    {
     "name": "stdout",
     "output_type": "stream",
     "text": [
      "[ 2  3  4  5  6  7  8  9 10 11 12 13 14 15 16 17]\n"
     ]
    }
   ],
   "source": [
    "arr = np.array(range(2, 18))\n",
    "print(arr)"
   ]
  },
  {
   "cell_type": "code",
   "execution_count": 48,
   "metadata": {},
   "outputs": [
    {
     "name": "stdout",
     "output_type": "stream",
     "text": [
      "[[[[ 2  3]\n",
      "   [ 4  5]]\n",
      "\n",
      "  [[ 6  7]\n",
      "   [ 8  9]]]\n",
      "\n",
      "\n",
      " [[[10 11]\n",
      "   [12 13]]\n",
      "\n",
      "  [[14 15]\n",
      "   [16 17]]]]\n"
     ]
    }
   ],
   "source": [
    "reshaped = arr.reshape(2, 2, 2, 2)\n",
    "reshaped = arr.reshape(2, 2, -1, 2)  # То же самое\n",
    "print(reshaped)"
   ]
  },
  {
   "cell_type": "markdown",
   "metadata": {},
   "source": [
    "А можно и так!"
   ]
  },
  {
   "cell_type": "code",
   "execution_count": 49,
   "metadata": {},
   "outputs": [
    {
     "name": "stdout",
     "output_type": "stream",
     "text": [
      "[ 2  3  4  5  6  7  8  9 10 11 12 13 14 15 16 17]\n"
     ]
    }
   ],
   "source": [
    "arr = np.array(range(2, 18))\n",
    "print(arr)"
   ]
  },
  {
   "cell_type": "code",
   "execution_count": 50,
   "metadata": {},
   "outputs": [
    {
     "name": "stdout",
     "output_type": "stream",
     "text": [
      "[[[[ 2  3]\n",
      "   [ 4  5]]\n",
      "\n",
      "  [[ 6  7]\n",
      "   [ 8  9]]]\n",
      "\n",
      "\n",
      " [[[10 11]\n",
      "   [12 13]]\n",
      "\n",
      "  [[14 15]\n",
      "   [16 17]]]]\n"
     ]
    }
   ],
   "source": [
    "arr.shape = (2, 2, -1, 2)\n",
    "print(arr)"
   ]
  },
  {
   "cell_type": "code",
   "execution_count": 51,
   "metadata": {},
   "outputs": [
    {
     "data": {
      "text/plain": [
       "(2, 2, 2, 2)"
      ]
     },
     "execution_count": 51,
     "metadata": {},
     "output_type": "execute_result"
    }
   ],
   "source": [
    "arr.shape"
   ]
  },
  {
   "cell_type": "markdown",
   "metadata": {},
   "source": [
    "А можно и растянуть обратно"
   ]
  },
  {
   "cell_type": "code",
   "execution_count": 52,
   "metadata": {},
   "outputs": [
    {
     "data": {
      "text/plain": [
       "array([ 2,  3,  4,  5,  6,  7,  8,  9, 10, 11, 12, 13, 14, 15, 16, 17])"
      ]
     },
     "execution_count": 52,
     "metadata": {},
     "output_type": "execute_result"
    }
   ],
   "source": [
    "arr.ravel()    # Копирует содержимое массива только, если это нужно"
   ]
  },
  {
   "cell_type": "code",
   "execution_count": 53,
   "metadata": {},
   "outputs": [
    {
     "data": {
      "text/plain": [
       "array([ 2,  3,  4,  5,  6,  7,  8,  9, 10, 11, 12, 13, 14, 15, 16, 17])"
      ]
     },
     "execution_count": 53,
     "metadata": {},
     "output_type": "execute_result"
    }
   ],
   "source": [
    "arr.flatten()  # Копирует содержимое массива в другую область памяти в любом случае, но результат - тот же"
   ]
  },
  {
   "cell_type": "markdown",
   "metadata": {},
   "source": [
    "Для понимания подобных тонкостей читайте документацию!\n",
    "\n",
    "- [Ravel](https://docs.scipy.org/doc/numpy/reference/generated/numpy.ndarray.ravel.html)\n",
    "- [Flatten](https://docs.scipy.org/doc/numpy/reference/generated/numpy.ndarray.flatten.html)\n",
    "\n",
    "#### Инициализация существующими массивами\n",
    "##### Конкатенация"
   ]
  },
  {
   "cell_type": "code",
   "execution_count": 54,
   "metadata": {},
   "outputs": [
    {
     "data": {
      "text/plain": [
       "array([[1, 2],\n",
       "       [3, 4],\n",
       "       [5, 6]])"
      ]
     },
     "execution_count": 54,
     "metadata": {},
     "output_type": "execute_result"
    }
   ],
   "source": [
    "a = np.array(\n",
    "    [[1, 2],\n",
    "     [3, 4]]\n",
    ")\n",
    "b = np.array(\n",
    "    [[5, 6]]\n",
    ")\n",
    "\n",
    "np.concatenate((a, b), axis=0)"
   ]
  },
  {
   "cell_type": "code",
   "execution_count": 55,
   "metadata": {},
   "outputs": [
    {
     "ename": "ValueError",
     "evalue": "all the input array dimensions for the concatenation axis must match exactly, but along dimension 0, the array at index 0 has size 2 and the array at index 1 has size 1",
     "output_type": "error",
     "traceback": [
      "\u001b[0;31m---------------------------------------------------------------------------\u001b[0m",
      "\u001b[0;31mValueError\u001b[0m                                Traceback (most recent call last)",
      "\u001b[0;32m<ipython-input-55-8450fba6c9ec>\u001b[0m in \u001b[0;36m<module>\u001b[0;34m\u001b[0m\n\u001b[0;32m----> 1\u001b[0;31m \u001b[0mnp\u001b[0m\u001b[0;34m.\u001b[0m\u001b[0mconcatenate\u001b[0m\u001b[0;34m(\u001b[0m\u001b[0;34m(\u001b[0m\u001b[0ma\u001b[0m\u001b[0;34m,\u001b[0m \u001b[0mb\u001b[0m\u001b[0;34m)\u001b[0m\u001b[0;34m,\u001b[0m \u001b[0maxis\u001b[0m\u001b[0;34m=\u001b[0m\u001b[0;36m1\u001b[0m\u001b[0;34m)\u001b[0m   \u001b[0;31m# Нельзя\u001b[0m\u001b[0;34m\u001b[0m\u001b[0;34m\u001b[0m\u001b[0m\n\u001b[0m",
      "\u001b[0;32m<__array_function__ internals>\u001b[0m in \u001b[0;36mconcatenate\u001b[0;34m(*args, **kwargs)\u001b[0m\n",
      "\u001b[0;31mValueError\u001b[0m: all the input array dimensions for the concatenation axis must match exactly, but along dimension 0, the array at index 0 has size 2 and the array at index 1 has size 1"
     ]
    }
   ],
   "source": [
    "np.concatenate((a, b), axis=1)   # Нельзя"
   ]
  },
  {
   "cell_type": "code",
   "execution_count": 56,
   "metadata": {},
   "outputs": [
    {
     "name": "stdout",
     "output_type": "stream",
     "text": [
      "[[5]\n",
      " [6]]\n"
     ]
    }
   ],
   "source": [
    "c = b.T\n",
    "print(c)"
   ]
  },
  {
   "cell_type": "code",
   "execution_count": 57,
   "metadata": {},
   "outputs": [
    {
     "data": {
      "text/plain": [
       "array([[1, 2, 5],\n",
       "       [3, 4, 6]])"
      ]
     },
     "execution_count": 57,
     "metadata": {},
     "output_type": "execute_result"
    }
   ],
   "source": [
    "np.concatenate((a, c), axis=1)  # А так можно"
   ]
  },
  {
   "cell_type": "markdown",
   "metadata": {},
   "source": [
    "##### Дополнительные способы"
   ]
  },
  {
   "cell_type": "code",
   "execution_count": 58,
   "metadata": {},
   "outputs": [
    {
     "name": "stdout",
     "output_type": "stream",
     "text": [
      "[[[0. 0. 0.]\n",
      "  [0. 0. 0.]]\n",
      "\n",
      " [[0. 0. 0.]\n",
      "  [0. 0. 0.]]\n",
      "\n",
      " [[0. 0. 0.]\n",
      "  [0. 0. 0.]]]\n"
     ]
    }
   ],
   "source": [
    "print(\n",
    "    np.zeros((3, 2, 3))\n",
    ")"
   ]
  },
  {
   "cell_type": "code",
   "execution_count": 59,
   "metadata": {},
   "outputs": [
    {
     "name": "stdout",
     "output_type": "stream",
     "text": [
      "[[0 0]\n",
      " [0 0]\n",
      " [0 0]]\n"
     ]
    }
   ],
   "source": [
    "print(\n",
    "    np.zeros_like(\n",
    "        [[32, 323],\n",
    "         [ 3,   4],\n",
    "         [ 0,  -3]]\n",
    "    )\n",
    ")"
   ]
  },
  {
   "cell_type": "code",
   "execution_count": 60,
   "metadata": {},
   "outputs": [
    {
     "name": "stdout",
     "output_type": "stream",
     "text": [
      "[[1. 1. 1. 1. 1. 1.]\n",
      " [1. 1. 1. 1. 1. 1.]\n",
      " [1. 1. 1. 1. 1. 1.]]\n"
     ]
    }
   ],
   "source": [
    "print(\n",
    "    np.ones((3, 6))\n",
    ")"
   ]
  },
  {
   "cell_type": "markdown",
   "metadata": {},
   "source": [
    "## Индексация массивов\n",
    "### Одномерный случай\n",
    "#### Срезы\n",
    "К срезу элементов `Ndarray` можно получить доступ стандартным питоновским подходом."
   ]
  },
  {
   "cell_type": "code",
   "execution_count": 61,
   "metadata": {},
   "outputs": [
    {
     "name": "stdout",
     "output_type": "stream",
     "text": [
      "[ 44  45  46  47  48  49  50  51  52  53  54  55  56  57  58  59  60  61\n",
      "  62  63  64  65  66  67  68  69  70  71  72  73  74  75  76  77  78  79\n",
      "  80  81  82  83  84  85  86  87  88  89  90  91  92  93  94  95  96  97\n",
      "  98  99 100 101 102 103 104 105 106 107 108 109 110 111 112 113 114 115\n",
      " 116 117 118 119 120 121 122 123 124 125]\n"
     ]
    }
   ],
   "source": [
    "arr = np.arange(44, 126)\n",
    "print(arr)"
   ]
  },
  {
   "cell_type": "code",
   "execution_count": 62,
   "metadata": {},
   "outputs": [
    {
     "data": {
      "text/plain": [
       "array([44, 45, 46, 47, 48, 49, 50, 51, 52, 53, 54, 55])"
      ]
     },
     "execution_count": 62,
     "metadata": {},
     "output_type": "execute_result"
    }
   ],
   "source": [
    "arr[:12]"
   ]
  },
  {
   "cell_type": "code",
   "execution_count": 63,
   "metadata": {},
   "outputs": [
    {
     "data": {
      "text/plain": [
       "array([44, 46, 48, 50, 52, 54])"
      ]
     },
     "execution_count": 63,
     "metadata": {},
     "output_type": "execute_result"
    }
   ],
   "source": [
    "arr[:12:2]"
   ]
  },
  {
   "cell_type": "code",
   "execution_count": 64,
   "metadata": {},
   "outputs": [
    {
     "data": {
      "text/plain": [
       "array([64, 65, 66, 67, 68])"
      ]
     },
     "execution_count": 64,
     "metadata": {},
     "output_type": "execute_result"
    }
   ],
   "source": [
    "arr[20:25]"
   ]
  },
  {
   "cell_type": "code",
   "execution_count": 65,
   "metadata": {},
   "outputs": [
    {
     "data": {
      "text/plain": [
       "array([ 64,  72,  80,  88,  96, 104, 112, 120])"
      ]
     },
     "execution_count": 65,
     "metadata": {},
     "output_type": "execute_result"
    }
   ],
   "source": [
    "arr[20:125:8]"
   ]
  },
  {
   "cell_type": "code",
   "execution_count": 66,
   "metadata": {},
   "outputs": [
    {
     "data": {
      "text/plain": [
       "array([76, 75, 74, 73, 72, 71, 70, 69, 68, 67, 66, 65, 64, 63, 62, 61, 60,\n",
       "       59, 58, 57])"
      ]
     },
     "execution_count": 66,
     "metadata": {},
     "output_type": "execute_result"
    }
   ],
   "source": [
    "arr[32:12:-1]"
   ]
  },
  {
   "cell_type": "code",
   "execution_count": 67,
   "metadata": {},
   "outputs": [
    {
     "data": {
      "text/plain": [
       "array([125, 124, 123, 122, 121, 120, 119, 118, 117, 116, 115, 114, 113,\n",
       "       112, 111, 110, 109, 108, 107, 106, 105, 104, 103, 102, 101, 100,\n",
       "        99,  98,  97,  96,  95,  94,  93,  92,  91,  90,  89,  88,  87,\n",
       "        86,  85,  84,  83,  82,  81,  80,  79,  78,  77,  76,  75,  74,\n",
       "        73,  72,  71,  70,  69,  68,  67,  66,  65,  64,  63,  62,  61,\n",
       "        60,  59,  58,  57,  56,  55,  54,  53,  52,  51,  50,  49,  48,\n",
       "        47,  46,  45,  44])"
      ]
     },
     "execution_count": 67,
     "metadata": {},
     "output_type": "execute_result"
    }
   ],
   "source": [
    "arr[::-1]"
   ]
  },
  {
   "cell_type": "markdown",
   "metadata": {},
   "source": [
    "#### bool-массив"
   ]
  },
  {
   "cell_type": "code",
   "execution_count": 68,
   "metadata": {},
   "outputs": [
    {
     "data": {
      "text/plain": [
       "array([0, 1, 2, 3, 4])"
      ]
     },
     "execution_count": 68,
     "metadata": {},
     "output_type": "execute_result"
    }
   ],
   "source": [
    "arr = np.arange(5)\n",
    "arr"
   ]
  },
  {
   "cell_type": "code",
   "execution_count": 69,
   "metadata": {},
   "outputs": [
    {
     "data": {
      "text/plain": [
       "array([0, 3, 4])"
      ]
     },
     "execution_count": 69,
     "metadata": {},
     "output_type": "execute_result"
    }
   ],
   "source": [
    "arr[[True, False, False, True, True]]"
   ]
  },
  {
   "cell_type": "markdown",
   "metadata": {},
   "source": [
    "### Многомерный случай\n",
    "#### Срезы"
   ]
  },
  {
   "cell_type": "code",
   "execution_count": 70,
   "metadata": {},
   "outputs": [
    {
     "name": "stdout",
     "output_type": "stream",
     "text": [
      "[[    4     5     4     4   554]\n",
      " [    6     7    43    43  4343]\n",
      " [    8     9 32435    34    21]]\n"
     ]
    }
   ],
   "source": [
    "arr = np.array(\n",
    "    [[4, 5,     4,  4,  554],\n",
    "     [6, 7,    43, 43, 4343],\n",
    "     [8, 9, 32435, 34,   21]]\n",
    ")\n",
    "print(arr)"
   ]
  },
  {
   "cell_type": "code",
   "execution_count": 71,
   "metadata": {},
   "outputs": [
    {
     "data": {
      "text/plain": [
       "array([[   43],\n",
       "       [32435]])"
      ]
     },
     "execution_count": 71,
     "metadata": {},
     "output_type": "execute_result"
    }
   ],
   "source": [
    "arr[1:4, 2:4:2]"
   ]
  },
  {
   "cell_type": "code",
   "execution_count": 72,
   "metadata": {},
   "outputs": [
    {
     "data": {
      "text/plain": [
       "array([[  554,     4,     4,     5,     4],\n",
       "       [ 4343,    43,    43,     7,     6],\n",
       "       [   21,    34, 32435,     9,     8]])"
      ]
     },
     "execution_count": 72,
     "metadata": {},
     "output_type": "execute_result"
    }
   ],
   "source": [
    "arr[:, ::-1]"
   ]
  },
  {
   "cell_type": "markdown",
   "metadata": {},
   "source": [
    "#### bool-массив"
   ]
  },
  {
   "cell_type": "code",
   "execution_count": 73,
   "metadata": {},
   "outputs": [
    {
     "data": {
      "text/plain": [
       "array([[    4,     5,     4,     4,   554],\n",
       "       [    8,     9, 32435,    34,    21]])"
      ]
     },
     "execution_count": 73,
     "metadata": {},
     "output_type": "execute_result"
    }
   ],
   "source": [
    "arr[[True, False, True]]                  # Выделение строк"
   ]
  },
  {
   "cell_type": "code",
   "execution_count": 74,
   "metadata": {},
   "outputs": [
    {
     "data": {
      "text/plain": [
       "array([[    4,     5,     4],\n",
       "       [    6,     7,    43],\n",
       "       [    8,     9, 32435]])"
      ]
     },
     "execution_count": 74,
     "metadata": {},
     "output_type": "execute_result"
    }
   ],
   "source": [
    "arr[:, [True, True, True, False, False]]  # Столбцов"
   ]
  },
  {
   "cell_type": "code",
   "execution_count": 75,
   "metadata": {},
   "outputs": [
    {
     "data": {
      "text/plain": [
       "array([    5,   554,     6,     7,    43,    43,  4343,     8,     9,\n",
       "       32435,    34,    21])"
      ]
     },
     "execution_count": 75,
     "metadata": {},
     "output_type": "execute_result"
    }
   ],
   "source": [
    "arr[arr > 4]"
   ]
  },
  {
   "cell_type": "markdown",
   "metadata": {},
   "source": [
    "## Тип данных (`dtype`)\n",
    "\n",
    "Все массивы `NumPy` имеют фиксированный тип, в отличие от родных массивов `Python`. Это нужно для ускорения вычислений и включения процессорных оптимизаций при выполнении векторизованных операций (о них будет чуть позже)."
   ]
  },
  {
   "cell_type": "code",
   "execution_count": 76,
   "metadata": {},
   "outputs": [
    {
     "name": "stdout",
     "output_type": "stream",
     "text": [
      "[2 3 4]\n"
     ]
    }
   ],
   "source": [
    "arr = np.array([2, 3, 4])\n",
    "print(arr)"
   ]
  },
  {
   "cell_type": "code",
   "execution_count": 77,
   "metadata": {},
   "outputs": [
    {
     "name": "stdout",
     "output_type": "stream",
     "text": [
      "<class 'numpy.ndarray'>\n"
     ]
    }
   ],
   "source": [
    "print(type(arr))"
   ]
  },
  {
   "cell_type": "markdown",
   "metadata": {},
   "source": [
    "`dtype` массива хранится в атрибуте... `dtype`"
   ]
  },
  {
   "cell_type": "code",
   "execution_count": 78,
   "metadata": {},
   "outputs": [
    {
     "name": "stdout",
     "output_type": "stream",
     "text": [
      "int64\n"
     ]
    }
   ],
   "source": [
    "print(arr.dtype)"
   ]
  },
  {
   "cell_type": "markdown",
   "metadata": {},
   "source": [
    "### Наиболее распространённые типы\n",
    "#### `int`\n",
    "Который конвертируется в `np.int64`, то есть в целочисленную переменную со знаком, занимающую 64 бита оперативной памяти."
   ]
  },
  {
   "cell_type": "code",
   "execution_count": 79,
   "metadata": {},
   "outputs": [
    {
     "name": "stdout",
     "output_type": "stream",
     "text": [
      "[2 3 4]\n"
     ]
    }
   ],
   "source": [
    "arr = np.array([2, 3, 4], dtype=int)\n",
    "print(arr)"
   ]
  },
  {
   "cell_type": "code",
   "execution_count": 80,
   "metadata": {},
   "outputs": [
    {
     "name": "stdout",
     "output_type": "stream",
     "text": [
      "int64\n"
     ]
    }
   ],
   "source": [
    "print(arr.dtype)"
   ]
  },
  {
   "cell_type": "markdown",
   "metadata": {},
   "source": [
    "Может принимать значения от $-2^{63}$ до $2^{63}-1$, то есть $\\in[-9223 372 036 854 775 808, 9 223 372 036 854 775 807]$. Этого хватает для подавляющего большинства задач.\n",
    "\n",
    "У подхода с фиксированным размером численной переменной есть недостатки:\n",
    "\n",
    "- При прибавлении к $2^{63}-1$ единицы происходит переполнение, и значение переменной становится равным $-2^{63}$.\n",
    "\n",
    "- Аналогично происходит при вычитании из нижней границы."
   ]
  },
  {
   "cell_type": "code",
   "execution_count": 81,
   "metadata": {},
   "outputs": [
    {
     "name": "stdout",
     "output_type": "stream",
     "text": [
      "9223372036854775807\n"
     ]
    }
   ],
   "source": [
    "integer = np.int64(2 ** 63 - 1)\n",
    "print(integer)"
   ]
  },
  {
   "cell_type": "code",
   "execution_count": 82,
   "metadata": {},
   "outputs": [
    {
     "name": "stdout",
     "output_type": "stream",
     "text": [
      "-9223372036854775808\n"
     ]
    }
   ],
   "source": [
    "print(integer + 1)"
   ]
  },
  {
   "cell_type": "code",
   "execution_count": 83,
   "metadata": {},
   "outputs": [
    {
     "name": "stdout",
     "output_type": "stream",
     "text": [
      "-9223372036854775808\n"
     ]
    }
   ],
   "source": [
    "integer = np.int64(-2 ** 63)\n",
    "print(integer)"
   ]
  },
  {
   "cell_type": "code",
   "execution_count": 84,
   "metadata": {},
   "outputs": [
    {
     "name": "stdout",
     "output_type": "stream",
     "text": [
      "9223372036854775807\n"
     ]
    }
   ],
   "source": [
    "print(integer - 1)"
   ]
  },
  {
   "cell_type": "markdown",
   "metadata": {},
   "source": [
    "Нативный питоновский `int` такими свойствами не обладает: он **не переполняем**. Но за это приходится расплачиваться значительно более медленной арифметикой. А для `NumPy` главное &mdash; скорость."
   ]
  },
  {
   "cell_type": "markdown",
   "metadata": {},
   "source": [
    "#### `float`\n",
    "Конвертируется в `np.float64`."
   ]
  },
  {
   "cell_type": "code",
   "execution_count": 85,
   "metadata": {},
   "outputs": [
    {
     "name": "stdout",
     "output_type": "stream",
     "text": [
      "[2. 3. 4.]\n"
     ]
    }
   ],
   "source": [
    "arr = np.array([2.0, 3.0, 4.0])\n",
    "print(arr)"
   ]
  },
  {
   "cell_type": "code",
   "execution_count": 86,
   "metadata": {},
   "outputs": [
    {
     "name": "stdout",
     "output_type": "stream",
     "text": [
      "float64\n"
     ]
    }
   ],
   "source": [
    "print(arr.dtype)"
   ]
  },
  {
   "cell_type": "code",
   "execution_count": 87,
   "metadata": {},
   "outputs": [
    {
     "name": "stdout",
     "output_type": "stream",
     "text": [
      "[2. 3. 4.]\n"
     ]
    }
   ],
   "source": [
    "arr = np.array([2.0, 3, 4])\n",
    "print(arr)"
   ]
  },
  {
   "cell_type": "code",
   "execution_count": 88,
   "metadata": {},
   "outputs": [
    {
     "name": "stdout",
     "output_type": "stream",
     "text": [
      "float64\n"
     ]
    }
   ],
   "source": [
    "print(arr.dtype)"
   ]
  },
  {
   "cell_type": "code",
   "execution_count": 89,
   "metadata": {},
   "outputs": [
    {
     "name": "stdout",
     "output_type": "stream",
     "text": [
      "[2. 3. 4.]\n"
     ]
    }
   ],
   "source": [
    "arr = np.array([2, 3, 4], dtype=float)\n",
    "print(arr)"
   ]
  },
  {
   "cell_type": "code",
   "execution_count": 90,
   "metadata": {},
   "outputs": [
    {
     "name": "stdout",
     "output_type": "stream",
     "text": [
      "[2. 3. 4.]\n"
     ]
    }
   ],
   "source": [
    "arr = np.array([2, 3, 4]).astype(float)\n",
    "print(arr)"
   ]
  },
  {
   "cell_type": "code",
   "execution_count": 91,
   "metadata": {},
   "outputs": [
    {
     "name": "stdout",
     "output_type": "stream",
     "text": [
      "float64\n"
     ]
    }
   ],
   "source": [
    "print(arr.dtype)"
   ]
  },
  {
   "cell_type": "markdown",
   "metadata": {},
   "source": [
    "Можно сохранить и менее точно, что требует меньше оперативной памяти:"
   ]
  },
  {
   "cell_type": "code",
   "execution_count": 92,
   "metadata": {},
   "outputs": [
    {
     "name": "stdout",
     "output_type": "stream",
     "text": [
      "[2.    3.    4.453]\n"
     ]
    }
   ],
   "source": [
    "arr = np.array([2, 3, 4.453456343535454365346354]).astype(np.float16)\n",
    "print(arr)"
   ]
  },
  {
   "cell_type": "markdown",
   "metadata": {},
   "source": [
    "Помимо обычных чисел конечной точности с плавающей запятой, переменные этого типа могут принимать три дополнительных значения, являющихся результатом некорректных операций:\n",
    "- `np.float64('inf')` &mdash; то есть плюс-бесконечность,\n",
    "- `np.float64('-inf')` &mdash; минус-бесконечность,\n",
    "- `np.float64('nan')` &mdash; `Not A Number`."
   ]
  },
  {
   "cell_type": "code",
   "execution_count": 93,
   "metadata": {},
   "outputs": [
    {
     "data": {
      "text/plain": [
       "(nan, inf, nan, 0.0)"
      ]
     },
     "execution_count": 93,
     "metadata": {},
     "output_type": "execute_result"
    }
   ],
   "source": [
    "np.nan + 1, np.inf + 1, np.inf * 0, 1.0 / np.inf"
   ]
  },
  {
   "cell_type": "markdown",
   "metadata": {},
   "source": [
    "Результат сравнения `Not A Number` с чем бы то ни было всегда равен `False`. Это довольно полезное свойство, которое эксплуатируется при индексации (о ней &mdash; чуть позже), и поэтому `NaN` часто используется как удобный заполнитель пропущенных значений."
   ]
  },
  {
   "cell_type": "code",
   "execution_count": 94,
   "metadata": {},
   "outputs": [
    {
     "data": {
      "text/plain": [
       "(False, False, False, False, False, False, False, False, False)"
      ]
     },
     "execution_count": 94,
     "metadata": {},
     "output_type": "execute_result"
    }
   ],
   "source": [
    "(\n",
    "    np.nan > 1,\n",
    "    np.nan < 1,\n",
    "    np.nan == 1,\n",
    "    np.nan == np.nan,\n",
    "    np.nan > np.nan,\n",
    "    np.nan > np.inf,\n",
    "    np.nan < np.inf,\n",
    "    np.nan > -np.inf,\n",
    "    np.nan < -np.inf\n",
    ")"
   ]
  },
  {
   "cell_type": "markdown",
   "metadata": {},
   "source": [
    "#### `bool`"
   ]
  },
  {
   "cell_type": "code",
   "execution_count": 95,
   "metadata": {},
   "outputs": [
    {
     "name": "stdout",
     "output_type": "stream",
     "text": [
      "[ True False False]\n"
     ]
    }
   ],
   "source": [
    "arr = np.array([True, False, False])\n",
    "print(arr)"
   ]
  },
  {
   "cell_type": "code",
   "execution_count": 96,
   "metadata": {},
   "outputs": [
    {
     "name": "stdout",
     "output_type": "stream",
     "text": [
      "bool\n"
     ]
    }
   ],
   "source": [
    "print(arr.dtype)"
   ]
  },
  {
   "cell_type": "code",
   "execution_count": 97,
   "metadata": {},
   "outputs": [
    {
     "name": "stdout",
     "output_type": "stream",
     "text": [
      "[1 0 0]\n"
     ]
    }
   ],
   "source": [
    "arr = np.array([True, False, False]).astype(int)\n",
    "print(arr)"
   ]
  },
  {
   "cell_type": "code",
   "execution_count": 98,
   "metadata": {},
   "outputs": [
    {
     "name": "stdout",
     "output_type": "stream",
     "text": [
      "[ True  True False]\n"
     ]
    }
   ],
   "source": [
    "arr = np.array([32, 64, 0]).astype(bool)\n",
    "print(arr)"
   ]
  },
  {
   "cell_type": "markdown",
   "metadata": {},
   "source": [
    "## Векторизованные операции\n",
    "\n",
    "### Скорость вычислений\n",
    "\n",
    "Векторизация означает, что операция выполняется для массива поэлементно.\n",
    "\n",
    "Как мы уже упомянули, для `NumPy` главное &mdash; скорость.\n",
    "\n",
    "Но правда ли это? Быстрее ли он, по сравнению с нативными инструментами `Python`?\n",
    "\n",
    "Давайте проверим!"
   ]
  },
  {
   "cell_type": "code",
   "execution_count": 99,
   "metadata": {},
   "outputs": [],
   "source": [
    "arr = list(range(10_000_000))"
   ]
  },
  {
   "cell_type": "code",
   "execution_count": 100,
   "metadata": {},
   "outputs": [
    {
     "name": "stdout",
     "output_type": "stream",
     "text": [
      "809 ms ± 25.4 ms per loop (mean ± std. dev. of 7 runs, 1 loop each)\n"
     ]
    }
   ],
   "source": [
    "%%timeit\n",
    "for i in range(10_000_000):\n",
    "    arr[i] += 1"
   ]
  },
  {
   "cell_type": "code",
   "execution_count": 101,
   "metadata": {},
   "outputs": [
    {
     "name": "stdout",
     "output_type": "stream",
     "text": [
      "[      0       1       2 ... 9999997 9999998 9999999]\n"
     ]
    }
   ],
   "source": [
    "arr = np.arange(10_000_000)\n",
    "print(arr)"
   ]
  },
  {
   "cell_type": "code",
   "execution_count": 102,
   "metadata": {},
   "outputs": [
    {
     "name": "stdout",
     "output_type": "stream",
     "text": [
      "int64\n"
     ]
    }
   ],
   "source": [
    "print(arr.dtype)"
   ]
  },
  {
   "cell_type": "code",
   "execution_count": 103,
   "metadata": {},
   "outputs": [
    {
     "name": "stdout",
     "output_type": "stream",
     "text": [
      "3.52 s ± 326 ms per loop (mean ± std. dev. of 7 runs, 1 loop each)\n"
     ]
    }
   ],
   "source": [
    "%%timeit\n",
    "for i in range(10_000_000):\n",
    "    arr[i] += 1"
   ]
  },
  {
   "cell_type": "markdown",
   "metadata": {},
   "source": [
    "Казалось бы, я только что соврал: время выполнения аналогичного кода для `NumPy` оказалось в 4 раза большим.\n",
    "\n",
    "Так зачем же нужна эта библиотека? Стоит ли овчинка выделки?\n",
    "\n",
    "Конечно же стоит! И медленный тут отнюдь не `NumPy`. Всё дело в том, что мы написали неоптимальный код.\n",
    "\n",
    "Запомните: **избегайте многократного обращения к `ndarray` по индексу!**\n",
    "\n",
    "Эта операция намного более тяжеловесней, чем для нативного питоновского `list`."
   ]
  },
  {
   "cell_type": "code",
   "execution_count": 104,
   "metadata": {},
   "outputs": [],
   "source": [
    "arr = list(range(10_000_000))"
   ]
  },
  {
   "cell_type": "code",
   "execution_count": 105,
   "metadata": {},
   "outputs": [
    {
     "name": "stdout",
     "output_type": "stream",
     "text": [
      "33.6 ns ± 3.59 ns per loop (mean ± std. dev. of 7 runs, 10000000 loops each)\n"
     ]
    }
   ],
   "source": [
    "%%timeit\n",
    "arr[24232]"
   ]
  },
  {
   "cell_type": "code",
   "execution_count": 106,
   "metadata": {},
   "outputs": [],
   "source": [
    "arr = np.arange(10_000_000)"
   ]
  },
  {
   "cell_type": "code",
   "execution_count": 107,
   "metadata": {},
   "outputs": [
    {
     "name": "stdout",
     "output_type": "stream",
     "text": [
      "104 ns ± 12.4 ns per loop (mean ± std. dev. of 7 runs, 10000000 loops each)\n"
     ]
    }
   ],
   "source": [
    "%%timeit\n",
    "arr[24232]"
   ]
  },
  {
   "cell_type": "markdown",
   "metadata": {},
   "source": [
    "Вместо этого используйте **векторизованные операции**"
   ]
  },
  {
   "cell_type": "code",
   "execution_count": 108,
   "metadata": {},
   "outputs": [
    {
     "name": "stdout",
     "output_type": "stream",
     "text": [
      "[      0       1       2 ... 9999997 9999998 9999999]\n"
     ]
    }
   ],
   "source": [
    "arr = np.arange(10_000_000)\n",
    "print(arr)"
   ]
  },
  {
   "cell_type": "code",
   "execution_count": 109,
   "metadata": {},
   "outputs": [
    {
     "name": "stdout",
     "output_type": "stream",
     "text": [
      "[       1        2        3 ...  9999998  9999999 10000000]\n"
     ]
    }
   ],
   "source": [
    "print(arr + 1)"
   ]
  },
  {
   "cell_type": "code",
   "execution_count": 110,
   "metadata": {},
   "outputs": [
    {
     "name": "stdout",
     "output_type": "stream",
     "text": [
      "15.6 ms ± 421 µs per loop (mean ± std. dev. of 7 runs, 100 loops each)\n"
     ]
    }
   ],
   "source": [
    "%%timeit\n",
    "arr + 1"
   ]
  },
  {
   "cell_type": "markdown",
   "metadata": {},
   "source": [
    "Как видим, в этой задаче `NumPy` быстрее питоновского `list` в 50 раз!\n",
    "\n",
    "Естественно, к `ndarray` можно не только поэлементно прибавлять числа, но и векторизованно выполнять абсолютно все возможные операции, которые можно применить хотя бы к одному элементу. \n",
    "\n",
    "### Унарные операции с `Ndarray`\n",
    "#### Вычисление противоположного значения"
   ]
  },
  {
   "cell_type": "code",
   "execution_count": 111,
   "metadata": {},
   "outputs": [
    {
     "name": "stdout",
     "output_type": "stream",
     "text": [
      "[-6 -7  2]\n"
     ]
    }
   ],
   "source": [
    "print(\n",
    "    -np.array([6, 7, -2])\n",
    ")"
   ]
  },
  {
   "cell_type": "markdown",
   "metadata": {},
   "source": [
    "#### Поэлементное побитовое логическое \"не\""
   ]
  },
  {
   "cell_type": "code",
   "execution_count": 112,
   "metadata": {},
   "outputs": [
    {
     "name": "stdout",
     "output_type": "stream",
     "text": [
      "[False  True False]\n"
     ]
    }
   ],
   "source": [
    "print(\n",
    "    ~np.array([True, False, True])\n",
    ")  # Поэлементное логическое \"НЕ\""
   ]
  },
  {
   "cell_type": "code",
   "execution_count": 113,
   "metadata": {},
   "outputs": [
    {
     "name": "stdout",
     "output_type": "stream",
     "text": [
      "[-3 -2 -1  0  1]\n"
     ]
    }
   ],
   "source": [
    "print(\n",
    "    ~np.array([2, 1, 0, -1, -2])\n",
    ")"
   ]
  },
  {
   "cell_type": "markdown",
   "metadata": {},
   "source": [
    "### Операции `Ndarray` с числом"
   ]
  },
  {
   "cell_type": "code",
   "execution_count": 114,
   "metadata": {},
   "outputs": [
    {
     "data": {
      "text/plain": [
       "array([       0,        3,        6, ..., 29999991, 29999994, 29999997])"
      ]
     },
     "execution_count": 114,
     "metadata": {},
     "output_type": "execute_result"
    }
   ],
   "source": [
    "arr * 3"
   ]
  },
  {
   "cell_type": "code",
   "execution_count": 115,
   "metadata": {},
   "outputs": [
    {
     "data": {
      "text/plain": [
       "array([     -3,      -2,      -1, ..., 9999994, 9999995, 9999996])"
      ]
     },
     "execution_count": 115,
     "metadata": {},
     "output_type": "execute_result"
    }
   ],
   "source": [
    "arr - 3"
   ]
  },
  {
   "cell_type": "code",
   "execution_count": 116,
   "metadata": {},
   "outputs": [
    {
     "data": {
      "text/plain": [
       "array([                   0,                    1,                   64,\n",
       "       ..., -1865861243757355559, -8325928571806998464,\n",
       "        1088579220152924417])"
      ]
     },
     "execution_count": 116,
     "metadata": {},
     "output_type": "execute_result"
    }
   ],
   "source": [
    "arr ** 6  # В конце происходит переполнение"
   ]
  },
  {
   "cell_type": "code",
   "execution_count": 117,
   "metadata": {},
   "outputs": [
    {
     "data": {
      "text/plain": [
       "array([       0,        8,       16, ..., 79999976, 79999984, 79999992])"
      ]
     },
     "execution_count": 117,
     "metadata": {},
     "output_type": "execute_result"
    }
   ],
   "source": [
    "arr << 3"
   ]
  },
  {
   "cell_type": "code",
   "execution_count": 118,
   "metadata": {},
   "outputs": [
    {
     "data": {
      "text/plain": [
       "array([      0,       0,       0, ..., 1249999, 1249999, 1249999])"
      ]
     },
     "execution_count": 118,
     "metadata": {},
     "output_type": "execute_result"
    }
   ],
   "source": [
    "arr >> 3"
   ]
  },
  {
   "cell_type": "code",
   "execution_count": 119,
   "metadata": {},
   "outputs": [
    {
     "data": {
      "text/plain": [
       "array([      3,       3,       3, ..., 9999999, 9999999, 9999999])"
      ]
     },
     "execution_count": 119,
     "metadata": {},
     "output_type": "execute_result"
    }
   ],
   "source": [
    "arr | 3"
   ]
  },
  {
   "cell_type": "code",
   "execution_count": 120,
   "metadata": {},
   "outputs": [
    {
     "data": {
      "text/plain": [
       "array([      3,       2,       1, ..., 9999998, 9999997, 9999996])"
      ]
     },
     "execution_count": 120,
     "metadata": {},
     "output_type": "execute_result"
    }
   ],
   "source": [
    "arr ^ 3"
   ]
  },
  {
   "cell_type": "code",
   "execution_count": 121,
   "metadata": {},
   "outputs": [
    {
     "data": {
      "text/plain": [
       "array([False, False, False, ...,  True,  True,  True])"
      ]
     },
     "execution_count": 121,
     "metadata": {},
     "output_type": "execute_result"
    }
   ],
   "source": [
    "arr > 3"
   ]
  },
  {
   "cell_type": "code",
   "execution_count": 122,
   "metadata": {},
   "outputs": [
    {
     "data": {
      "text/plain": [
       "array([False, False, False, ...,  True,  True,  True])"
      ]
     },
     "execution_count": 122,
     "metadata": {},
     "output_type": "execute_result"
    }
   ],
   "source": [
    "arr >= 3"
   ]
  },
  {
   "cell_type": "code",
   "execution_count": 123,
   "metadata": {},
   "outputs": [
    {
     "data": {
      "text/plain": [
       "array([False, False,  True, ..., False, False, False])"
      ]
     },
     "execution_count": 123,
     "metadata": {},
     "output_type": "execute_result"
    }
   ],
   "source": [
    "arr == 2"
   ]
  },
  {
   "cell_type": "code",
   "execution_count": 124,
   "metadata": {},
   "outputs": [
    {
     "data": {
      "text/plain": [
       "array([0, 1, 2, ..., 1, 2, 0])"
      ]
     },
     "execution_count": 124,
     "metadata": {},
     "output_type": "execute_result"
    }
   ],
   "source": [
    "arr % 3"
   ]
  },
  {
   "cell_type": "code",
   "execution_count": 125,
   "metadata": {},
   "outputs": [
    {
     "data": {
      "text/plain": [
       "array([      0,       0,       0, ..., 3333332, 3333332, 3333333])"
      ]
     },
     "execution_count": 125,
     "metadata": {},
     "output_type": "execute_result"
    }
   ],
   "source": [
    "arr // 3"
   ]
  },
  {
   "cell_type": "markdown",
   "metadata": {},
   "source": [
    "Часть операций можно выполнять \"на месте\", если возращаемый `dtype` совпадает с исходным"
   ]
  },
  {
   "cell_type": "code",
   "execution_count": 126,
   "metadata": {},
   "outputs": [
    {
     "data": {
      "text/plain": [
       "array([       3,        4,        5, ..., 10000000, 10000001, 10000002])"
      ]
     },
     "execution_count": 126,
     "metadata": {},
     "output_type": "execute_result"
    }
   ],
   "source": [
    "arr += 3\n",
    "arr"
   ]
  },
  {
   "cell_type": "code",
   "execution_count": 127,
   "metadata": {},
   "outputs": [
    {
     "ename": "TypeError",
     "evalue": "No loop matching the specified signature and casting was found for ufunc true_divide",
     "output_type": "error",
     "traceback": [
      "\u001b[0;31m---------------------------------------------------------------------------\u001b[0m",
      "\u001b[0;31mTypeError\u001b[0m                                 Traceback (most recent call last)",
      "\u001b[0;32m<ipython-input-127-872b3dbcae97>\u001b[0m in \u001b[0;36m<module>\u001b[0;34m\u001b[0m\n\u001b[0;32m----> 1\u001b[0;31m \u001b[0marr\u001b[0m \u001b[0;34m/=\u001b[0m \u001b[0;36m3\u001b[0m   \u001b[0;31m# Нельзя, поскольку возвращается np.ndarray с dtype=np.float64\u001b[0m\u001b[0;34m\u001b[0m\u001b[0;34m\u001b[0m\u001b[0m\n\u001b[0m",
      "\u001b[0;31mTypeError\u001b[0m: No loop matching the specified signature and casting was found for ufunc true_divide"
     ]
    }
   ],
   "source": [
    "arr /= 3   # Нельзя, поскольку возвращается np.ndarray с dtype=np.float64"
   ]
  },
  {
   "cell_type": "code",
   "execution_count": 128,
   "metadata": {},
   "outputs": [
    {
     "data": {
      "text/plain": [
       "array([      1,       1,       1, ..., 3333333, 3333333, 3333334])"
      ]
     },
     "execution_count": 128,
     "metadata": {},
     "output_type": "execute_result"
    }
   ],
   "source": [
    "arr //= 3  # А вот это уже можно\n",
    "arr"
   ]
  },
  {
   "cell_type": "markdown",
   "metadata": {},
   "source": [
    "### Операции `Ndarray` с другим `Ndarray`\n",
    "\n",
    "Вот этот вопрос уже более сложный.\n",
    "\n",
    "Интуитивно понятно, как будет выглядеть сложение двух массивов с одинаковым атрибутом `shape`: поэлементно.\n",
    "\n",
    "А что если это не так? Допустим, мы хотим сложить матрицу размера `(3, 1)` с матрицей размера `(1, 3)`. Как быть? Тут вступают в силу правила бродкастинга. Нужны эти правила для того, чтобы экономить память при работе с тяжёлыми массивами. Одним из примечательных следствий этих правил является тот факт, что коммутативные поэлементные операции остаются коммутативными и для массивов. Подробнее о них можно почитать [тут](https://docs.scipy.org/doc/numpy/user/basics.broadcasting.html). Примеры бродкастинга будут чуть позже.\n",
    "\n",
    "Также для массивов со взаимокорректными атрибутами `shape` определены матричные умножения (оператор `@`) и даже эйнштейновы свёртки произвольного вида (функция `np.einsum`).\n",
    "\n",
    "#### Векторы"
   ]
  },
  {
   "cell_type": "code",
   "execution_count": 129,
   "metadata": {},
   "outputs": [
    {
     "name": "stdout",
     "output_type": "stream",
     "text": [
      "[2 3 4]\n",
      "[5 6 7]\n"
     ]
    }
   ],
   "source": [
    "a = np.array([2, 3, 4])\n",
    "b = np.array([5, 6, 7])\n",
    "print(a)\n",
    "print(b)"
   ]
  },
  {
   "cell_type": "code",
   "execution_count": 130,
   "metadata": {},
   "outputs": [
    {
     "data": {
      "text/plain": [
       "array([ 7,  9, 11])"
      ]
     },
     "execution_count": 130,
     "metadata": {},
     "output_type": "execute_result"
    }
   ],
   "source": [
    "a + b"
   ]
  },
  {
   "cell_type": "code",
   "execution_count": 131,
   "metadata": {},
   "outputs": [
    {
     "data": {
      "text/plain": [
       "array([10, 18, 28])"
      ]
     },
     "execution_count": 131,
     "metadata": {},
     "output_type": "execute_result"
    }
   ],
   "source": [
    "a * b"
   ]
  },
  {
   "cell_type": "code",
   "execution_count": 132,
   "metadata": {},
   "outputs": [
    {
     "data": {
      "text/plain": [
       "array([0.4       , 0.5       , 0.57142857])"
      ]
     },
     "execution_count": 132,
     "metadata": {},
     "output_type": "execute_result"
    }
   ],
   "source": [
    "a / b"
   ]
  },
  {
   "cell_type": "code",
   "execution_count": 133,
   "metadata": {},
   "outputs": [
    {
     "data": {
      "text/plain": [
       "array([0, 0, 0])"
      ]
     },
     "execution_count": 133,
     "metadata": {},
     "output_type": "execute_result"
    }
   ],
   "source": [
    "a // b"
   ]
  },
  {
   "cell_type": "code",
   "execution_count": 134,
   "metadata": {},
   "outputs": [
    {
     "data": {
      "text/plain": [
       "56"
      ]
     },
     "execution_count": 134,
     "metadata": {},
     "output_type": "execute_result"
    }
   ],
   "source": [
    "a @ b"
   ]
  },
  {
   "cell_type": "markdown",
   "metadata": {},
   "source": [
    "Хотя матричное умножение вектора на вектор не определено, вектор $b$ интерпретируется как $b^T$\n",
    "\n",
    "#### Матрицы"
   ]
  },
  {
   "cell_type": "code",
   "execution_count": 135,
   "metadata": {},
   "outputs": [
    {
     "name": "stdout",
     "output_type": "stream",
     "text": [
      "[[2 3 4]]\n",
      "[[5 6 7]]\n"
     ]
    }
   ],
   "source": [
    "a = np.array([[2, 3, 4]])\n",
    "b = np.array([[5, 6, 7]])\n",
    "print(a)\n",
    "print(b)"
   ]
  },
  {
   "cell_type": "code",
   "execution_count": 136,
   "metadata": {},
   "outputs": [
    {
     "data": {
      "text/plain": [
       "array([[ 7,  9, 11]])"
      ]
     },
     "execution_count": 136,
     "metadata": {},
     "output_type": "execute_result"
    }
   ],
   "source": [
    "a + b"
   ]
  },
  {
   "cell_type": "code",
   "execution_count": 137,
   "metadata": {},
   "outputs": [
    {
     "data": {
      "text/plain": [
       "array([[10, 18, 28]])"
      ]
     },
     "execution_count": 137,
     "metadata": {},
     "output_type": "execute_result"
    }
   ],
   "source": [
    "a * b"
   ]
  },
  {
   "cell_type": "code",
   "execution_count": 138,
   "metadata": {},
   "outputs": [
    {
     "data": {
      "text/plain": [
       "array([[0.4       , 0.5       , 0.57142857]])"
      ]
     },
     "execution_count": 138,
     "metadata": {},
     "output_type": "execute_result"
    }
   ],
   "source": [
    "a / b"
   ]
  },
  {
   "cell_type": "code",
   "execution_count": 139,
   "metadata": {},
   "outputs": [
    {
     "ename": "ValueError",
     "evalue": "matmul: Input operand 1 has a mismatch in its core dimension 0, with gufunc signature (n?,k),(k,m?)->(n?,m?) (size 1 is different from 3)",
     "output_type": "error",
     "traceback": [
      "\u001b[0;31m---------------------------------------------------------------------------\u001b[0m",
      "\u001b[0;31mValueError\u001b[0m                                Traceback (most recent call last)",
      "\u001b[0;32m<ipython-input-139-88de868f0fd7>\u001b[0m in \u001b[0;36m<module>\u001b[0;34m\u001b[0m\n\u001b[0;32m----> 1\u001b[0;31m \u001b[0ma\u001b[0m \u001b[0;34m@\u001b[0m \u001b[0mb\u001b[0m\u001b[0;34m\u001b[0m\u001b[0;34m\u001b[0m\u001b[0m\n\u001b[0m",
      "\u001b[0;31mValueError\u001b[0m: matmul: Input operand 1 has a mismatch in its core dimension 0, with gufunc signature (n?,k),(k,m?)->(n?,m?) (size 1 is different from 3)"
     ]
    }
   ],
   "source": [
    "a @ b"
   ]
  },
  {
   "cell_type": "markdown",
   "metadata": {},
   "source": [
    "Матрицы (даже всего из 1-й строки) перемножать уже нельзя. Поэтому $b$ необходимо явно транспонировать."
   ]
  },
  {
   "cell_type": "code",
   "execution_count": 140,
   "metadata": {},
   "outputs": [
    {
     "name": "stdout",
     "output_type": "stream",
     "text": [
      "[[2 3 4]]\n",
      "[[5]\n",
      " [6]\n",
      " [7]]\n"
     ]
    }
   ],
   "source": [
    "c = b.T\n",
    "print(a)\n",
    "print(c)"
   ]
  },
  {
   "cell_type": "code",
   "execution_count": 141,
   "metadata": {},
   "outputs": [
    {
     "data": {
      "text/plain": [
       "array([[56]])"
      ]
     },
     "execution_count": 141,
     "metadata": {},
     "output_type": "execute_result"
    }
   ],
   "source": [
    "a @ c  # Матричное произведение двух матриц"
   ]
  },
  {
   "cell_type": "code",
   "execution_count": 142,
   "metadata": {},
   "outputs": [
    {
     "data": {
      "text/plain": [
       "array([[10, 15, 20],\n",
       "       [12, 18, 24],\n",
       "       [14, 21, 28]])"
      ]
     },
     "execution_count": 142,
     "metadata": {},
     "output_type": "execute_result"
    }
   ],
   "source": [
    "c @ a"
   ]
  },
  {
   "cell_type": "code",
   "execution_count": 143,
   "metadata": {},
   "outputs": [
    {
     "data": {
      "text/plain": [
       "array([[10, 15, 20],\n",
       "       [12, 18, 24],\n",
       "       [14, 21, 28]])"
      ]
     },
     "execution_count": 143,
     "metadata": {},
     "output_type": "execute_result"
    }
   ],
   "source": [
    "a * c  # Работает одно из правил бродкастинга"
   ]
  },
  {
   "cell_type": "code",
   "execution_count": 144,
   "metadata": {},
   "outputs": [
    {
     "data": {
      "text/plain": [
       "array([[ True,  True,  True],\n",
       "       [ True,  True,  True],\n",
       "       [ True,  True,  True]])"
      ]
     },
     "execution_count": 144,
     "metadata": {},
     "output_type": "execute_result"
    }
   ],
   "source": [
    "a_broadcasted = np.array(\n",
    "    [[2, 3, 4],\n",
    "     [2, 3, 4],\n",
    "     [2, 3, 4]]\n",
    ")\n",
    "\n",
    "c_broadcasted = np.array(\n",
    "    [[5, 5, 5],\n",
    "     [6, 6, 6],\n",
    "     [7, 7, 7]]\n",
    ")\n",
    "\n",
    "a * c == a_broadcasted * c_broadcasted  # Результат аналогичен тому, как если бы мы явно расширили матрицы\n",
    "                                        # до одинакового `shape`"
   ]
  },
  {
   "cell_type": "markdown",
   "metadata": {},
   "source": [
    "Как видим, при бродкастинге массивы \"расширяются\" так, чтобы соответствовать друг другу по атрибуту `shape`.\n",
    "\n",
    "Кавычки тут потому, что, на самом деле, физического расширения не происходит, и забродкастченные массивы не потребляют больше памяти.\n",
    "\n",
    "В нашем случае матрица `a` расширяется до 3-х строчной матрицы с одинаковыми строками,\n",
    "\n",
    "А матрица `c` &mdash; до 3-х столбчатой с одинаковыми столбцами."
   ]
  },
  {
   "cell_type": "code",
   "execution_count": 145,
   "metadata": {},
   "outputs": [
    {
     "data": {
      "text/plain": [
       "array([[ 7,  8,  9],\n",
       "       [ 8,  9, 10],\n",
       "       [ 9, 10, 11]])"
      ]
     },
     "execution_count": 145,
     "metadata": {},
     "output_type": "execute_result"
    }
   ],
   "source": [
    "a + c  # То же самое"
   ]
  },
  {
   "cell_type": "code",
   "execution_count": 146,
   "metadata": {},
   "outputs": [
    {
     "data": {
      "text/plain": [
       "array([[10, 15, 20],\n",
       "       [12, 18, 24],\n",
       "       [14, 21, 28]])"
      ]
     },
     "execution_count": 146,
     "metadata": {},
     "output_type": "execute_result"
    }
   ],
   "source": [
    "c * a"
   ]
  },
  {
   "cell_type": "markdown",
   "metadata": {},
   "source": [
    "Видим, что для ассоциативных поэлементных операций ассоциативность сохраняется и в случае работы с матрицами"
   ]
  },
  {
   "cell_type": "code",
   "execution_count": 147,
   "metadata": {},
   "outputs": [],
   "source": [
    "a = np.array(\n",
    "    [[2, 3, 4],\n",
    "     [5, 6, 7]]\n",
    ")\n",
    "b = np.array(\n",
    "    [[ 8,  9, 10],\n",
    "     [11, 12, 13],\n",
    "     [14, 15, 16]]\n",
    ")"
   ]
  },
  {
   "cell_type": "code",
   "execution_count": 148,
   "metadata": {},
   "outputs": [
    {
     "data": {
      "text/plain": [
       "array([32, 56])"
      ]
     },
     "execution_count": 148,
     "metadata": {},
     "output_type": "execute_result"
    }
   ],
   "source": [
    "a @ [-1, 2, 7]"
   ]
  },
  {
   "cell_type": "code",
   "execution_count": 149,
   "metadata": {},
   "outputs": [
    {
     "data": {
      "text/plain": [
       "array([[105, 114, 123],\n",
       "       [204, 222, 240]])"
      ]
     },
     "execution_count": 149,
     "metadata": {},
     "output_type": "execute_result"
    }
   ],
   "source": [
    "a @ b"
   ]
  },
  {
   "cell_type": "code",
   "execution_count": 150,
   "metadata": {},
   "outputs": [
    {
     "ename": "ValueError",
     "evalue": "matmul: Input operand 1 has a mismatch in its core dimension 0, with gufunc signature (n?,k),(k,m?)->(n?,m?) (size 2 is different from 3)",
     "output_type": "error",
     "traceback": [
      "\u001b[0;31m---------------------------------------------------------------------------\u001b[0m",
      "\u001b[0;31mValueError\u001b[0m                                Traceback (most recent call last)",
      "\u001b[0;32m<ipython-input-150-62ab59502a84>\u001b[0m in \u001b[0;36m<module>\u001b[0;34m\u001b[0m\n\u001b[0;32m----> 1\u001b[0;31m \u001b[0mb\u001b[0m \u001b[0;34m@\u001b[0m \u001b[0ma\u001b[0m  \u001b[0;31m# Ошибка\u001b[0m\u001b[0;34m\u001b[0m\u001b[0;34m\u001b[0m\u001b[0m\n\u001b[0m",
      "\u001b[0;31mValueError\u001b[0m: matmul: Input operand 1 has a mismatch in its core dimension 0, with gufunc signature (n?,k),(k,m?)->(n?,m?) (size 2 is different from 3)"
     ]
    }
   ],
   "source": [
    "b @ a  # Ошибка"
   ]
  },
  {
   "cell_type": "code",
   "execution_count": 151,
   "metadata": {},
   "outputs": [
    {
     "data": {
      "text/plain": [
       "array([[ 56,  77,  98],\n",
       "       [ 81, 108, 135],\n",
       "       [110, 143, 176]])"
      ]
     },
     "execution_count": 151,
     "metadata": {},
     "output_type": "execute_result"
    }
   ],
   "source": [
    "np.einsum('ij,kj->jk', a, b)  # Пример нетривиальной свёртки индексов"
   ]
  },
  {
   "cell_type": "code",
   "execution_count": 152,
   "metadata": {},
   "outputs": [],
   "source": [
    "a = np.array(\n",
    "    [[2, 3, 4],\n",
    "     [5, 6, 7]]\n",
    ")\n",
    "b = np.array(\n",
    "    [[ 8,  9, 10],\n",
    "     [11, 12, 13]]\n",
    ")"
   ]
  },
  {
   "cell_type": "code",
   "execution_count": 153,
   "metadata": {},
   "outputs": [
    {
     "data": {
      "text/plain": [
       "array([[ True,  True,  True],\n",
       "       [ True,  True,  True]])"
      ]
     },
     "execution_count": 153,
     "metadata": {},
     "output_type": "execute_result"
    }
   ],
   "source": [
    "a * b == b * a          # Проверим коммутативность"
   ]
  },
  {
   "cell_type": "code",
   "execution_count": 154,
   "metadata": {},
   "outputs": [
    {
     "data": {
      "text/plain": [
       "True"
      ]
     },
     "execution_count": 154,
     "metadata": {},
     "output_type": "execute_result"
    }
   ],
   "source": [
    "np.all(a * b == b * a)  # Для проверки полного, а не только поэлеметного совпадения"
   ]
  },
  {
   "cell_type": "code",
   "execution_count": 155,
   "metadata": {},
   "outputs": [
    {
     "data": {
      "text/plain": [
       "True"
      ]
     },
     "execution_count": 155,
     "metadata": {},
     "output_type": "execute_result"
    }
   ],
   "source": [
    "np.all(\n",
    "    np.multiply(a, b) == np.multiply(b, a)  # То же самое, что и `a * b`\n",
    ")"
   ]
  },
  {
   "cell_type": "code",
   "execution_count": 156,
   "metadata": {},
   "outputs": [
    {
     "data": {
      "text/plain": [
       "True"
      ]
     },
     "execution_count": 156,
     "metadata": {},
     "output_type": "execute_result"
    }
   ],
   "source": [
    "np.any(a * b == b * a)  # Проверка хотя бы одного совпадения"
   ]
  },
  {
   "cell_type": "markdown",
   "metadata": {},
   "source": [
    "#### Внешнее произведение $u_iv_j=a_{ij}$"
   ]
  },
  {
   "cell_type": "code",
   "execution_count": 157,
   "metadata": {},
   "outputs": [
    {
     "name": "stdout",
     "output_type": "stream",
     "text": [
      "[1. 2.]\n",
      "[2. 3. 4.]\n"
     ]
    }
   ],
   "source": [
    "u = np.linspace(1, 2, 2)\n",
    "v = np.linspace(2, 4, 3)\n",
    "print(u)\n",
    "print(v)"
   ]
  },
  {
   "cell_type": "code",
   "execution_count": 158,
   "metadata": {},
   "outputs": [
    {
     "name": "stdout",
     "output_type": "stream",
     "text": [
      "[[2. 3. 4.]\n",
      " [4. 6. 8.]]\n"
     ]
    }
   ],
   "source": [
    "print(\n",
    "    np.outer(u, v)\n",
    ")"
   ]
  },
  {
   "cell_type": "markdown",
   "metadata": {},
   "source": [
    "#### Скалярное произведение $u_iv_i = a$"
   ]
  },
  {
   "cell_type": "code",
   "execution_count": 159,
   "metadata": {},
   "outputs": [
    {
     "data": {
      "text/plain": [
       "45"
      ]
     },
     "execution_count": 159,
     "metadata": {},
     "output_type": "execute_result"
    }
   ],
   "source": [
    "np.inner([2, 3, 4], [3, 5, 6])"
   ]
  },
  {
   "cell_type": "code",
   "execution_count": 160,
   "metadata": {},
   "outputs": [
    {
     "data": {
      "text/plain": [
       "45"
      ]
     },
     "execution_count": 160,
     "metadata": {},
     "output_type": "execute_result"
    }
   ],
   "source": [
    "np.dot([2, 3, 4], [3, 5, 6])"
   ]
  },
  {
   "cell_type": "markdown",
   "metadata": {},
   "source": [
    "Отличия проявляются для массивов большей размерности. В чём оно состоит &mdash; читайте документацию."
   ]
  },
  {
   "cell_type": "markdown",
   "metadata": {},
   "source": [
    "### Внутренние функции `NumPy` (так называемые `ufunc`) уже векторизованы\n",
    "Например"
   ]
  },
  {
   "cell_type": "code",
   "execution_count": 161,
   "metadata": {},
   "outputs": [
    {
     "data": {
      "text/plain": [
       "(-0.5365983551885637, 5.830951894845301)"
      ]
     },
     "execution_count": 161,
     "metadata": {},
     "output_type": "execute_result"
    }
   ],
   "source": [
    "np.sin(343), np.sqrt(34)"
   ]
  },
  {
   "cell_type": "code",
   "execution_count": 162,
   "metadata": {},
   "outputs": [
    {
     "data": {
      "text/plain": [
       "array([ 0.84147098,  0.84147098,  0.84147098, ...,  0.46001877,\n",
       "        0.46001877, -0.49860062])"
      ]
     },
     "execution_count": 162,
     "metadata": {},
     "output_type": "execute_result"
    }
   ],
   "source": [
    "np.sin(arr)"
   ]
  },
  {
   "cell_type": "code",
   "execution_count": 163,
   "metadata": {},
   "outputs": [
    {
     "data": {
      "text/plain": [
       "array([1.00000000e+00, 1.00000000e+00, 1.00000000e+00, ...,\n",
       "       1.82574177e+03, 1.82574177e+03, 1.82574204e+03])"
      ]
     },
     "execution_count": 163,
     "metadata": {},
     "output_type": "execute_result"
    }
   ],
   "source": [
    "np.sqrt(arr)"
   ]
  },
  {
   "cell_type": "markdown",
   "metadata": {},
   "source": [
    "### Функции можно явно векторизовать\n",
    "\n",
    "Хотя и не очень эффективно по скорости, по сравнению с \"родными\" функциями `NumPy`"
   ]
  },
  {
   "cell_type": "code",
   "execution_count": 164,
   "metadata": {},
   "outputs": [
    {
     "ename": "TypeError",
     "evalue": "unhashable type: 'numpy.ndarray'",
     "output_type": "error",
     "traceback": [
      "\u001b[0;31m---------------------------------------------------------------------------\u001b[0m",
      "\u001b[0;31mTypeError\u001b[0m                                 Traceback (most recent call last)",
      "\u001b[0;32m<ipython-input-164-883c932d50e6>\u001b[0m in \u001b[0;36m<module>\u001b[0;34m\u001b[0m\n\u001b[1;32m      2\u001b[0m     \u001b[0;32mreturn\u001b[0m \u001b[0mhash\u001b[0m\u001b[0;34m(\u001b[0m\u001b[0mx\u001b[0m\u001b[0;34m)\u001b[0m \u001b[0;34m/\u001b[0m \u001b[0;36m3\u001b[0m\u001b[0;34m\u001b[0m\u001b[0;34m\u001b[0m\u001b[0m\n\u001b[1;32m      3\u001b[0m \u001b[0;34m\u001b[0m\u001b[0m\n\u001b[0;32m----> 4\u001b[0;31m \u001b[0mmy_func\u001b[0m\u001b[0;34m(\u001b[0m\u001b[0marr\u001b[0m\u001b[0;34m)\u001b[0m\u001b[0;34m\u001b[0m\u001b[0;34m\u001b[0m\u001b[0m\n\u001b[0m",
      "\u001b[0;32m<ipython-input-164-883c932d50e6>\u001b[0m in \u001b[0;36mmy_func\u001b[0;34m(x)\u001b[0m\n\u001b[1;32m      1\u001b[0m \u001b[0;32mdef\u001b[0m \u001b[0mmy_func\u001b[0m\u001b[0;34m(\u001b[0m\u001b[0mx\u001b[0m\u001b[0;34m)\u001b[0m\u001b[0;34m:\u001b[0m\u001b[0;34m\u001b[0m\u001b[0;34m\u001b[0m\u001b[0m\n\u001b[0;32m----> 2\u001b[0;31m     \u001b[0;32mreturn\u001b[0m \u001b[0mhash\u001b[0m\u001b[0;34m(\u001b[0m\u001b[0mx\u001b[0m\u001b[0;34m)\u001b[0m \u001b[0;34m/\u001b[0m \u001b[0;36m3\u001b[0m\u001b[0;34m\u001b[0m\u001b[0;34m\u001b[0m\u001b[0m\n\u001b[0m\u001b[1;32m      3\u001b[0m \u001b[0;34m\u001b[0m\u001b[0m\n\u001b[1;32m      4\u001b[0m \u001b[0mmy_func\u001b[0m\u001b[0;34m(\u001b[0m\u001b[0marr\u001b[0m\u001b[0;34m)\u001b[0m\u001b[0;34m\u001b[0m\u001b[0;34m\u001b[0m\u001b[0m\n",
      "\u001b[0;31mTypeError\u001b[0m: unhashable type: 'numpy.ndarray'"
     ]
    }
   ],
   "source": [
    "def my_func(x):\n",
    "    return hash(x) / 3\n",
    "\n",
    "my_func(arr)"
   ]
  },
  {
   "cell_type": "code",
   "execution_count": 165,
   "metadata": {},
   "outputs": [
    {
     "data": {
      "text/plain": [
       "array([3.33333333e-01, 3.33333333e-01, 3.33333333e-01, ...,\n",
       "       1.11111100e+06, 1.11111100e+06, 1.11111133e+06])"
      ]
     },
     "execution_count": 165,
     "metadata": {},
     "output_type": "execute_result"
    }
   ],
   "source": [
    "# Исправим эту ошибку\n",
    "my_func_vectorized = np.vectorize(my_func)\n",
    "my_func_vectorized(arr)"
   ]
  },
  {
   "cell_type": "markdown",
   "metadata": {},
   "source": [
    "## Расчёт различных статистик `ndarray`\n",
    "\n",
    "### Нативные возможности `NumPy`\n",
    "\n",
    "Этот класс имеет большое число методов, позволяющих удобно и очень быстро рассчитать различные статистические параметры массива.\n",
    "\n",
    "Полный список методов и атрибутов класса можно узнать так:"
   ]
  },
  {
   "cell_type": "code",
   "execution_count": 166,
   "metadata": {},
   "outputs": [],
   "source": [
    "with open(to_data_dir('ndarray_members.txt'), 'w') as out:\n",
    "    out.write(\n",
    "        '\\n'.join(\n",
    "            sorted(\n",
    "                set(dir(np.ndarray)) - set(dir(object))\n",
    "            )\n",
    "        )\n",
    "    )"
   ]
  },
  {
   "cell_type": "markdown",
   "metadata": {},
   "source": [
    "Обычно их названия говорят сами за себя.\n",
    "\n",
    "Но если вам нужно что-то конкретное, например, `стандартное отклонение`, лучше пользоваться гуглом.\n",
    "\n",
    "К сожалению, прогерские запросы, сформулированные на русском языке, гугл (как и Яндекс) ищет очень плохо.\n",
    "\n",
    "Поэтому если вы хотите эффективно решать ваши задачи, то придётся **выучить английский** :(\n",
    "\n",
    "Запросы обычно составляются подобным образом:\n",
    "\n",
    "`How to calculate standard deviation using Numpy`\n",
    "\n",
    "Ответом на хорошо составленный запрос обычно является обсуждение похожего вопроса на сайте **`StackOverflow`** с подробным решением проблемы (или на каком-нибудь другом ресурсе на движке `StackExchange`).\n",
    "\n",
    "#### Одномерный случай"
   ]
  },
  {
   "cell_type": "code",
   "execution_count": 167,
   "metadata": {},
   "outputs": [
    {
     "name": "stdout",
     "output_type": "stream",
     "text": [
      "[0 1 2 3 4 5 6 7 8 9]\n"
     ]
    }
   ],
   "source": [
    "arr = np.arange(10)\n",
    "print(arr)"
   ]
  },
  {
   "cell_type": "code",
   "execution_count": 168,
   "metadata": {},
   "outputs": [
    {
     "data": {
      "text/plain": [
       "2.8722813232690143"
      ]
     },
     "execution_count": 168,
     "metadata": {},
     "output_type": "execute_result"
    }
   ],
   "source": [
    "arr.std()"
   ]
  },
  {
   "cell_type": "code",
   "execution_count": 169,
   "metadata": {},
   "outputs": [
    {
     "data": {
      "text/plain": [
       "4.5"
      ]
     },
     "execution_count": 169,
     "metadata": {},
     "output_type": "execute_result"
    }
   ],
   "source": [
    "arr.mean()"
   ]
  },
  {
   "cell_type": "code",
   "execution_count": 170,
   "metadata": {},
   "outputs": [
    {
     "data": {
      "text/plain": [
       "9"
      ]
     },
     "execution_count": 170,
     "metadata": {},
     "output_type": "execute_result"
    }
   ],
   "source": [
    "arr.argmax()"
   ]
  },
  {
   "cell_type": "code",
   "execution_count": 171,
   "metadata": {},
   "outputs": [
    {
     "data": {
      "text/plain": [
       "array([ 0,  1,  3,  6, 10, 15, 21, 28, 36, 45])"
      ]
     },
     "execution_count": 171,
     "metadata": {},
     "output_type": "execute_result"
    }
   ],
   "source": [
    "arr.cumsum()"
   ]
  },
  {
   "cell_type": "code",
   "execution_count": 172,
   "metadata": {},
   "outputs": [
    {
     "data": {
      "text/plain": [
       "array([0, 0, 0, 0, 0, 0, 0, 0, 0, 0])"
      ]
     },
     "execution_count": 172,
     "metadata": {},
     "output_type": "execute_result"
    }
   ],
   "source": [
    "arr.cumprod()"
   ]
  },
  {
   "cell_type": "code",
   "execution_count": 173,
   "metadata": {},
   "outputs": [
    {
     "data": {
      "text/plain": [
       "array([     1,      2,      6,     24,    120,    720,   5040,  40320,\n",
       "       362880])"
      ]
     },
     "execution_count": 173,
     "metadata": {},
     "output_type": "execute_result"
    }
   ],
   "source": [
    "arr[1:].cumprod()"
   ]
  },
  {
   "cell_type": "code",
   "execution_count": 174,
   "metadata": {},
   "outputs": [
    {
     "name": "stdout",
     "output_type": "stream",
     "text": [
      "[-1.5666989  -1.21854359 -0.87038828 -0.52223297 -0.17407766  0.17407766\n",
      "  0.52223297  0.87038828  1.21854359  1.5666989 ]\n"
     ]
    }
   ],
   "source": [
    "z_score = (arr - arr.mean()) / arr.std()\n",
    "print(z_score)"
   ]
  },
  {
   "cell_type": "code",
   "execution_count": 175,
   "metadata": {},
   "outputs": [
    {
     "data": {
      "text/plain": [
       "4.5"
      ]
     },
     "execution_count": 175,
     "metadata": {},
     "output_type": "execute_result"
    }
   ],
   "source": [
    "np.mean(arr)  # Аналог метода mean"
   ]
  },
  {
   "cell_type": "markdown",
   "metadata": {},
   "source": [
    "#### Двумерный случай"
   ]
  },
  {
   "cell_type": "code",
   "execution_count": 176,
   "metadata": {},
   "outputs": [],
   "source": [
    "arr = np.array(\n",
    "    [[1, 1, 1],\n",
    "     [4, 5, 6],\n",
    "     [7, 8, 9]]\n",
    ")"
   ]
  },
  {
   "cell_type": "code",
   "execution_count": 177,
   "metadata": {},
   "outputs": [
    {
     "data": {
      "text/plain": [
       "4.666666666666667"
      ]
     },
     "execution_count": 177,
     "metadata": {},
     "output_type": "execute_result"
    }
   ],
   "source": [
    "arr.mean()      # Среднее по всем элементам"
   ]
  },
  {
   "cell_type": "code",
   "execution_count": 178,
   "metadata": {},
   "outputs": [
    {
     "data": {
      "text/plain": [
       "2.943920288775949"
      ]
     },
     "execution_count": 178,
     "metadata": {},
     "output_type": "execute_result"
    }
   ],
   "source": [
    "arr.std()       # Аналогично"
   ]
  },
  {
   "cell_type": "code",
   "execution_count": 179,
   "metadata": {},
   "outputs": [
    {
     "data": {
      "text/plain": [
       "5.0"
      ]
     },
     "execution_count": 179,
     "metadata": {},
     "output_type": "execute_result"
    }
   ],
   "source": [
    "np.median(arr)  # Аналогично"
   ]
  },
  {
   "cell_type": "markdown",
   "metadata": {},
   "source": [
    "А что если мы хотим посчитать статистику для каждой строки или вектора?"
   ]
  },
  {
   "cell_type": "code",
   "execution_count": 180,
   "metadata": {},
   "outputs": [
    {
     "name": "stdout",
     "output_type": "stream",
     "text": [
      "[1. 5. 8.]\n",
      "[0.         0.81649658 0.81649658]\n"
     ]
    }
   ],
   "source": [
    "print(arr.mean(axis=1))  # По строкам\n",
    "print(arr.std(axis=1))"
   ]
  },
  {
   "cell_type": "markdown",
   "metadata": {},
   "source": [
    "У аргумента `axis` в функциях и методах `NumPy` есть один простой смысл: он обозначает номер схлопывающегося измерения.\n",
    "\n",
    "В случае выше `axis=1`. Это значит, что мы хотим схлопнуть столбцы:\n",
    "\n",
    "```\n",
    "[[1, 2, 3],         [a_0,\n",
    " [4, 5, 6],    ->    a_1,\n",
    " [7, 8, 9]]          a_2]\n",
    "```\n",
    "\n",
    "То есть `mean` будет считаться для каждой строки.\n",
    "\n",
    "В случае с `axis=0` cхема будет такая:\n",
    "\n",
    "```\n",
    "[[1, 2, 3],\n",
    " [4, 5, 6],    ->    [a_0, a_1, a_2]\n",
    " [7, 8, 9]]\n",
    "```\n",
    "\n",
    "Об этом правиле хорошо помнить при работе с массивами большой размерности."
   ]
  },
  {
   "cell_type": "code",
   "execution_count": 181,
   "metadata": {},
   "outputs": [
    {
     "name": "stdout",
     "output_type": "stream",
     "text": [
      "[4.         4.66666667 5.33333333]\n"
     ]
    }
   ],
   "source": [
    "print(arr.mean(axis=0))  # Аналогично среднее для столбцов"
   ]
  },
  {
   "cell_type": "markdown",
   "metadata": {},
   "source": [
    "#### Многомерный случай\n",
    "Вынос мозга"
   ]
  },
  {
   "cell_type": "code",
   "execution_count": 182,
   "metadata": {},
   "outputs": [
    {
     "name": "stdout",
     "output_type": "stream",
     "text": [
      "[ 0  1  2  3  4  5  6  7  8  9 10 11 12 13 14 15]\n"
     ]
    }
   ],
   "source": [
    "arr = np.arange(16)\n",
    "print(arr)"
   ]
  },
  {
   "cell_type": "code",
   "execution_count": 183,
   "metadata": {},
   "outputs": [
    {
     "name": "stdout",
     "output_type": "stream",
     "text": [
      "[[[[ 0  1]\n",
      "   [ 2  3]]\n",
      "\n",
      "  [[ 4  5]\n",
      "   [ 6  7]]]\n",
      "\n",
      "\n",
      " [[[ 8  9]\n",
      "   [10 11]]\n",
      "\n",
      "  [[12 13]\n",
      "   [14 15]]]]\n"
     ]
    }
   ],
   "source": [
    "arr = arr.reshape(2, 2, -1, 2)\n",
    "print(arr)"
   ]
  },
  {
   "cell_type": "code",
   "execution_count": 184,
   "metadata": {},
   "outputs": [
    {
     "name": "stdout",
     "output_type": "stream",
     "text": [
      "[[[ 1.  2.]\n",
      "  [ 5.  6.]]\n",
      "\n",
      " [[ 9. 10.]\n",
      "  [13. 14.]]]\n"
     ]
    }
   ],
   "source": [
    "print(arr.mean(axis=2))       # Среднее по парам строка + столбец (схлопывание второго измерения)"
   ]
  },
  {
   "cell_type": "code",
   "execution_count": 185,
   "metadata": {},
   "outputs": [
    {
     "name": "stdout",
     "output_type": "stream",
     "text": [
      "[[ 5.  6.]\n",
      " [ 9. 10.]]\n"
     ]
    }
   ],
   "source": [
    "print(arr.mean(axis=(0, 2)))  # Среднее по столбцам (схлопывание плоскости)"
   ]
  },
  {
   "cell_type": "code",
   "execution_count": 186,
   "metadata": {},
   "outputs": [
    {
     "name": "stdout",
     "output_type": "stream",
     "text": [
      "[[[12. 13.]\n",
      "  [14. 15.]]\n",
      "\n",
      " [[16. 17.]\n",
      "  [18. 19.]]]\n"
     ]
    }
   ],
   "source": [
    "arr = np.arange(32).reshape(2, 2, 2, -1, 2, 2)  # 6-тензор\n",
    "print(\n",
    "    arr.mean(\n",
    "        axis=(0, 1, 3)\n",
    "    )\n",
    ")\n",
    "# Среднее по уникальным значениям индекса 2-го, 4-го и 5-го измерений при нумерации с нуля\n",
    "# (схлопывание гиперплоскости)"
   ]
  },
  {
   "cell_type": "markdown",
   "metadata": {},
   "source": [
    "## Линейная алгебра"
   ]
  },
  {
   "cell_type": "code",
   "execution_count": 187,
   "metadata": {},
   "outputs": [],
   "source": [
    "import numpy.linalg as linalg\n",
    "\n",
    "\n",
    "arr = np.array(\n",
    "    [[1, 2, 3],\n",
    "     [4, 5, 6],\n",
    "     [7, 8, 10]]\n",
    ")"
   ]
  },
  {
   "cell_type": "code",
   "execution_count": 188,
   "metadata": {},
   "outputs": [
    {
     "data": {
      "text/plain": [
       "16"
      ]
     },
     "execution_count": 188,
     "metadata": {},
     "output_type": "execute_result"
    }
   ],
   "source": [
    "arr.trace()  # След матрицы"
   ]
  },
  {
   "cell_type": "code",
   "execution_count": 189,
   "metadata": {},
   "outputs": [
    {
     "name": "stdout",
     "output_type": "stream",
     "text": [
      "Eigen values:   [16.70749332 -0.90574018  0.19824686]\n",
      "\n",
      "Eigen vectors:\n",
      "\n",
      "[[-0.22351336 -0.86584578  0.27829649]\n",
      " [-0.50394563  0.0856512  -0.8318468 ]\n",
      " [-0.83431444  0.4929249   0.48018951]]\n"
     ]
    }
   ],
   "source": [
    "eigvals, eigvectors = linalg.eig(arr)  # Собственные значения и соответсвтующие собственные векторы\n",
    "print(f'Eigen values:   {eigvals}\\n')\n",
    "print(f'Eigen vectors:\\n\\n{eigvectors}')"
   ]
  },
  {
   "cell_type": "markdown",
   "metadata": {},
   "source": [
    "Решение линейной системы уравнений $\\large y=Ax$"
   ]
  },
  {
   "cell_type": "code",
   "execution_count": 190,
   "metadata": {},
   "outputs": [
    {
     "name": "stdout",
     "output_type": "stream",
     "text": [
      "[-6.  13.  -6.5]\n"
     ]
    }
   ],
   "source": [
    "y = [0.5, 2, -3]\n",
    "\n",
    "x = linalg.solve(arr, y)\n",
    "print(x)"
   ]
  },
  {
   "cell_type": "code",
   "execution_count": 191,
   "metadata": {},
   "outputs": [
    {
     "name": "stdout",
     "output_type": "stream",
     "text": [
      "[0.00000000e+00 7.10542736e-15 0.00000000e+00]\n"
     ]
    }
   ],
   "source": [
    "diff = arr @ x - y\n",
    "print(diff)"
   ]
  },
  {
   "cell_type": "code",
   "execution_count": 192,
   "metadata": {},
   "outputs": [
    {
     "data": {
      "text/plain": [
       "-3.000000000000001"
      ]
     },
     "execution_count": 192,
     "metadata": {},
     "output_type": "execute_result"
    }
   ],
   "source": [
    "linalg.det(arr)          # Детерминант"
   ]
  },
  {
   "cell_type": "code",
   "execution_count": 193,
   "metadata": {},
   "outputs": [
    {
     "data": {
      "text/plain": [
       "3"
      ]
     },
     "execution_count": 193,
     "metadata": {},
     "output_type": "execute_result"
    }
   ],
   "source": [
    "linalg.matrix_rank(arr)  # Ранг"
   ]
  },
  {
   "cell_type": "markdown",
   "metadata": {},
   "source": [
    "## Генератор случайных чисел"
   ]
  },
  {
   "cell_type": "code",
   "execution_count": 194,
   "metadata": {},
   "outputs": [],
   "source": [
    "import numpy.random as rnd\n",
    "\n",
    "rnd.seed(229)      # Фиксация состояния генератора для воспроизводимости результатов"
   ]
  },
  {
   "cell_type": "code",
   "execution_count": 195,
   "metadata": {},
   "outputs": [
    {
     "data": {
      "text/plain": [
       "array([[0.097025  , 0.73855721, 0.67878381, 0.24754234],\n",
       "       [0.77946174, 0.47046344, 0.37186577, 0.66959036]])"
      ]
     },
     "execution_count": 195,
     "metadata": {},
     "output_type": "execute_result"
    }
   ],
   "source": [
    "rnd.rand(2, 4)     # Матрица случайных значений в [0, 1)"
   ]
  },
  {
   "cell_type": "code",
   "execution_count": 196,
   "metadata": {},
   "outputs": [
    {
     "data": {
      "text/plain": [
       "array([0.35416081, 0.9659991 ])"
      ]
     },
     "execution_count": 196,
     "metadata": {},
     "output_type": "execute_result"
    }
   ],
   "source": [
    "rnd.rand(2)        # Вектор"
   ]
  },
  {
   "cell_type": "code",
   "execution_count": 197,
   "metadata": {},
   "outputs": [
    {
     "data": {
      "text/plain": [
       "array([[[0.59945383, 0.58368018, 0.90401267, 0.29560886, 0.1963769 ],\n",
       "        [0.69467223, 0.24236188, 0.64649818, 0.81101814, 0.66943528]],\n",
       "\n",
       "       [[0.95556308, 0.31513701, 0.00319681, 0.82257831, 0.30158194],\n",
       "        [0.34218125, 0.8575259 , 0.6968269 , 0.84930732, 0.93142726]]])"
      ]
     },
     "execution_count": 197,
     "metadata": {},
     "output_type": "execute_result"
    }
   ],
   "source": [
    "rnd.rand(2, 2, 5)  # Тензор"
   ]
  },
  {
   "cell_type": "code",
   "execution_count": 198,
   "metadata": {},
   "outputs": [
    {
     "name": "stdout",
     "output_type": "stream",
     "text": [
      "[   0    1    2 ... 9997 9998 9999]\n"
     ]
    }
   ],
   "source": [
    "arr = np.arange(10000)\n",
    "print(arr)"
   ]
  },
  {
   "cell_type": "code",
   "execution_count": 199,
   "metadata": {},
   "outputs": [
    {
     "name": "stdout",
     "output_type": "stream",
     "text": [
      "[2657 7496 9154 ... 6977 9463 6795]\n"
     ]
    }
   ],
   "source": [
    "with_repl = rnd.choice(arr, size=3000)                 # Случайная выборка из вектора с возвращением\n",
    "print(with_repl)"
   ]
  },
  {
   "cell_type": "code",
   "execution_count": 200,
   "metadata": {},
   "outputs": [
    {
     "name": "stdout",
     "output_type": "stream",
     "text": [
      "[9561 2561  970 ... 3615   52 9587]\n"
     ]
    }
   ],
   "source": [
    "no_repl = rnd.choice(arr, size=3000, replace=False)    # Случайная выборка из вектора без возвращения\n",
    "print(no_repl)"
   ]
  },
  {
   "cell_type": "code",
   "execution_count": 201,
   "metadata": {},
   "outputs": [
    {
     "name": "stdout",
     "output_type": "stream",
     "text": [
      "[   5    9   11 ... 9994 9998 9999]\n"
     ]
    }
   ],
   "source": [
    "with_repl_unique = np.unique(with_repl)\n",
    "no_repl_unique =   np.unique(no_repl)\n",
    "print(no_repl_unique)"
   ]
  },
  {
   "cell_type": "code",
   "execution_count": 202,
   "metadata": {},
   "outputs": [
    {
     "data": {
      "text/plain": [
       "437"
      ]
     },
     "execution_count": 202,
     "metadata": {},
     "output_type": "execute_result"
    }
   ],
   "source": [
    "len(no_repl_unique) - len(with_repl_unique)"
   ]
  },
  {
   "cell_type": "code",
   "execution_count": 203,
   "metadata": {},
   "outputs": [
    {
     "name": "stdout",
     "output_type": "stream",
     "text": [
      "[ 3 10 16 19 11  3 16  2  3  6 16 17  0  8  5 12  0 16 10 10 10  6  7  4\n",
      "  0  9 12 13  1  3 15  2 11 20 14  5  9 12 13  1 11 14 17  3  1  9 10  2\n",
      " 15  5  6  3  3 14 19 19  4 19 14 12 10  9 17  6 11 19 11 19  6  6  2  9\n",
      "  6  4 15 15 17  7  8 18  5 14  4 11 18  7  1  5  8  5  9 15  2 19  9  9\n",
      " 20 14 15 12]\n"
     ]
    }
   ],
   "source": [
    "print(rnd.random_integers(0, 20, size=100))"
   ]
  },
  {
   "cell_type": "code",
   "execution_count": 204,
   "metadata": {},
   "outputs": [
    {
     "name": "stdout",
     "output_type": "stream",
     "text": [
      "[100.95636383 106.91442545 100.86043827 103.43296077  96.54933836\n",
      "  96.52867721 102.80400431 102.79340848  98.46118657 102.25796507\n",
      " 101.1466493   99.84184505 102.08995011  98.41073924  99.7302976\n",
      " 102.19536809 102.53589164 105.04554864 102.09679775  97.6128636\n",
      " 100.45044625 102.34517237 100.80212801  93.45589031  98.87634261\n",
      "  95.77933785  98.45923473  97.44689082 104.29116192  98.08268502\n",
      " 102.62723689  99.1337225  100.22275847  98.1190491   98.8124239\n",
      "  99.01967612 101.39834197 101.82301816 103.41500166 103.10102626\n",
      " 102.41140658  97.13847174 100.0812161   99.26577975  99.832412\n",
      "  99.14682759 100.91006919 104.52425507  92.05599406 101.32352476\n",
      "  99.78780501 100.44967766 100.37406468 102.63696313  99.53408935\n",
      " 107.51536272 102.09613176  95.05073133  97.45235241 100.58990161\n",
      "  98.76712944 102.18093194 100.76687659 100.21222797 103.06063264\n",
      " 105.27423196  99.7634656   99.69173554  96.5273032   97.49950055\n",
      "  98.35377133  97.89543776  98.13290592  97.55593035 103.90115541\n",
      " 100.7247042   99.52340078  98.17696029  99.91863029 101.22156109\n",
      " 104.94394674 100.6358637  103.31298957  89.34451682  97.52186494\n",
      "  92.27629489  98.55814943  96.67861917  99.22657173  96.86512316\n",
      "  98.90245666 100.79758938  98.72266028  95.24489477  96.34859567\n",
      "  95.06451106 105.38421134  97.1357467  103.17118222 101.78076452]\n"
     ]
    }
   ],
   "source": [
    "print(rnd.normal(100, 3, size=100))\n",
    "# Выборка из нормального распределения с центром в 100 и стандартным отклонением 3"
   ]
  },
  {
   "cell_type": "markdown",
   "metadata": {},
   "source": [
    "[И так далее...](https://docs.scipy.org/doc/numpy-1.15.0/reference/routines.random.html)"
   ]
  },
  {
   "cell_type": "markdown",
   "metadata": {},
   "source": [
    "# Библиотека scipy (модуль scipy.stats)\n",
    "\n",
    "Нам пригодится только модуль `scipy.stats`.\n",
    "Полное описание можно [тут](http://docs.scipy.org/doc/scipy/reference/stats.html).\n",
    "\n",
    "Описание этой части разработал Никита Волков."
   ]
  },
  {
   "cell_type": "code",
   "execution_count": 205,
   "metadata": {},
   "outputs": [],
   "source": [
    "import scipy.stats as sps"
   ]
  },
  {
   "cell_type": "markdown",
   "metadata": {},
   "source": [
    "<b>Общий принцип:</b>\n",
    "\n",
    "$X$ — некоторое распределение с параметрами `params`\n",
    "\n",
    "\n",
    "* `X.rvs(size=N, params)` — генерация выборки размера $N$ (<b>R</b>andom <b>V</b>ariate<b>S</b>). Возвращает `numpy.ndarray`\n",
    "* `X.cdf(x, params)` — значение функции распределения в точке $x$ (<b>C</b>umulative <b>D</b>istribution <b>F</b>unction)\n",
    "* `X.logcdf(x, params)` — значение логарифма функции распределения в точке $x$\n",
    "* `X.ppf(q, params)` — $q$-квантиль (<b>P</b>ercent <b>P</b>oint <b>F</b>unction)\n",
    "* `X.mean(params)` — математическое ожидание\n",
    "* `X.median(params)` — медиана\n",
    "* `X.var(params)` — дисперсия (<b>Var</b>iance)\n",
    "* `X.std(params)` — стандартное отклонение = корень из дисперсии (<b>St</b>andard <b>D</b>eviation)\n",
    "\n",
    "Кроме того для непрерывных распределений определены функции\n",
    "* `X.pdf(x, params)` — значение плотности в точке $x$ (<b>P</b>robability <b>D</b>ensity <b>F</b>unction)\n",
    "* `X.logpdf(x, params)` — значение логарифма плотности в точке $x$\n",
    "\n",
    "А для дискретных\n",
    "* `X.pmf(k, params)` — значение дискретной плотности в точке $k$ (<b>P</b>robability <b>M</b>ass <b>F</b>unction)\n",
    "* `X.logpdf(k, params)` — значение логарифма дискретной плотности в точке $k$\n",
    "\n",
    "\n",
    "Параметры могут быть следующими:\n",
    "* `loc` — параметр сдвига\n",
    "* `scale` — параметр масштаба\n",
    "* и другие параметры (например, $n$ и $p$ для биномиального)"
   ]
  },
  {
   "cell_type": "markdown",
   "metadata": {},
   "source": [
    "Для примера сгенерируем выборку размера $N = 200$ из распределения $\\mathscr{N}(1, 9)$ и посчитаем некоторые статистики.\n",
    "В терминах выше описанных функций у нас $X$ = `sps.norm`, а `params` = (`loc=1, scale=3`)."
   ]
  },
  {
   "cell_type": "code",
   "execution_count": 206,
   "metadata": {},
   "outputs": [
    {
     "name": "stdout",
     "output_type": "stream",
     "text": [
      "Первые 10 значений выборки:\n",
      "[-0.61541359 -1.79287579  2.29194953  2.13405501  1.05004176  3.6579294\n",
      " -0.92566272  1.19595716  0.34405765  3.9380064 ]\n",
      "Выборочное среднее: 1.23\n",
      "Выборочная дисперсия: 9.19\n"
     ]
    }
   ],
   "source": [
    "sample = sps.norm.rvs(size=200, loc=1, scale=3)\n",
    "print(\n",
    "    f'Первые 10 значений выборки:\\n{sample[:10]}\\n'\n",
    "    f'Выборочное среднее: {sample.mean():.3}\\n'\n",
    "    f'Выборочная дисперсия: {sample.var():.3}'\n",
    ")"
   ]
  },
  {
   "cell_type": "code",
   "execution_count": 207,
   "metadata": {},
   "outputs": [
    {
     "name": "stdout",
     "output_type": "stream",
     "text": [
      "Плотность:\t\t [0.10648267 0.12579441 0.13298076 0.12579441 0.10648267]\n",
      "Функция распределения:\t [0.25249254 0.36944134 0.5        0.63055866 0.74750746]\n"
     ]
    }
   ],
   "source": [
    "print(\n",
    "    'Плотность:\\t\\t', \n",
    "    sps.norm.pdf([-1, 0, 1, 2, 3], loc=1, scale=3)\n",
    ")\n",
    "print(\n",
    "    'Функция распределения:\\t', \n",
    "    sps.norm.cdf([-1, 0, 1, 2, 3], loc=1, scale=3)\n",
    ")"
   ]
  },
  {
   "cell_type": "code",
   "execution_count": 208,
   "metadata": {},
   "outputs": [
    {
     "name": "stdout",
     "output_type": "stream",
     "text": [
      "Квантили: [-3.93456088 -2.8446547   1.          4.8446547   5.93456088]\n"
     ]
    }
   ],
   "source": [
    "print(\n",
    "    'Квантили:', \n",
    "    sps.norm.ppf([0.05, 0.1, 0.5, 0.9, 0.95], loc=1, scale=3)\n",
    ")"
   ]
  },
  {
   "cell_type": "markdown",
   "metadata": {},
   "source": [
    "Cгенерируем выборку размера $N = 200$ из распределения $Bin(10, 0.6)$ и посчитаем некоторые статистики.\n",
    "В терминах выше описанных функций у нас $X$ = `sps.binom`, а `params` = (`n=10, p=0.6`)."
   ]
  },
  {
   "cell_type": "code",
   "execution_count": 209,
   "metadata": {},
   "outputs": [
    {
     "name": "stdout",
     "output_type": "stream",
     "text": [
      "Первые 10 значений выборки:\n",
      "[6 9 7 6 5 5 8 8 6 8]\n",
      "Выборочное среднее: 5.94\n",
      "Выборочная дисперсия: 2.72\n"
     ]
    }
   ],
   "source": [
    "sample = sps.binom.rvs(size=200, n=10, p=0.6)\n",
    "print(\n",
    "    f'Первые 10 значений выборки:\\n{sample[:10]}\\n'\n",
    "    f'Выборочное среднее: {sample.mean():.3}\\n'\n",
    "    f'Выборочная дисперсия: {sample.var():.3}'\n",
    ")"
   ]
  },
  {
   "cell_type": "code",
   "execution_count": 210,
   "metadata": {},
   "outputs": [
    {
     "name": "stdout",
     "output_type": "stream",
     "text": [
      "Дискретная плотность:\t [0.00000000e+00 1.04857600e-04 2.00658125e-01 0.00000000e+00\n",
      " 6.04661760e-03]\n",
      "Функция распределения:\t [0.00000000e+00 1.04857600e-04 3.66896742e-01 3.66896742e-01\n",
      " 1.00000000e+00]\n"
     ]
    }
   ],
   "source": [
    "print(\n",
    "    'Дискретная плотность:\\t', \n",
    "    sps.binom.pmf([-1, 0, 5, 5.5, 10], n=10, p=0.6)\n",
    ")\n",
    "print(\n",
    "    'Функция распределения:\\t', \n",
    "    sps.binom.cdf([-1, 0, 5, 5.5, 10], n=10, p=0.6)\n",
    ")"
   ]
  },
  {
   "cell_type": "code",
   "execution_count": 211,
   "metadata": {},
   "outputs": [
    {
     "name": "stdout",
     "output_type": "stream",
     "text": [
      "Квантили: [3. 4. 6. 8. 8.]\n"
     ]
    }
   ],
   "source": [
    "print('Квантили:', sps.binom.ppf([0.05, 0.1, 0.5, 0.9, 0.95], n=10, p=0.6))"
   ]
  },
  {
   "cell_type": "markdown",
   "metadata": {},
   "source": [
    "Отдельно есть класс для <b>многомерного нормального распределения</b>.\n",
    "Для примера сгенерируем выборку размера $N=200$ из распределения $\\mathscr{N} \\left( \\begin{pmatrix} 1 \\\\ 1 \\end{pmatrix},  \\begin{pmatrix} 2 & 1 \\\\ 1 & 2 \\end{pmatrix} \\right)$."
   ]
  },
  {
   "cell_type": "code",
   "execution_count": 212,
   "metadata": {},
   "outputs": [
    {
     "name": "stdout",
     "output_type": "stream",
     "text": [
      "Первые 10 значений выборки:\n",
      "[[ 2.4977072   1.64435856]\n",
      " [ 3.24817749  1.39699624]\n",
      " [ 0.28934112 -1.92552349]\n",
      " [ 2.15924185  3.75930753]\n",
      " [-0.76197727  0.9932569 ]\n",
      " [ 1.15892508  1.47774726]\n",
      " [ 1.38994526  2.12430261]\n",
      " [ 0.16701514 -0.11918136]\n",
      " [-0.4432428  -0.72061527]\n",
      " [ 2.38802813 -1.0830354 ]]\n",
      "Выборочное среднее: [0.9960912  0.94796385]\n",
      "Выборочная матрица ковариаций:\n",
      "[[2.04961475 0.90857493]\n",
      " [0.90857493 1.94264242]]\n"
     ]
    }
   ],
   "source": [
    "sample = sps.multivariate_normal.rvs(mean=[1, 1], cov=[[2, 1], [1, 2]], size=200)\n",
    "print(\n",
    "    f'Первые 10 значений выборки:\\n{sample[:10]}\\n'\n",
    "    f'Выборочное среднее: {sample.mean(axis=0)}\\n'\n",
    "    f'Выборочная матрица ковариаций:\\n{np.cov(sample.T)}'\n",
    ")"
   ]
  },
  {
   "cell_type": "markdown",
   "metadata": {},
   "source": [
    "Некоторая хитрость :)"
   ]
  },
  {
   "cell_type": "code",
   "execution_count": 213,
   "metadata": {},
   "outputs": [
    {
     "name": "stdout",
     "output_type": "stream",
     "text": [
      "[-0.08776384  1.18370382  1.92836046  3.01225254  3.83522739  4.95722863\n",
      "  5.8709284   6.92114063  7.95891509  8.98683773]\n"
     ]
    }
   ],
   "source": [
    "sample = sps.norm.rvs(size=10, loc=range(10), scale=0.1)\n",
    "print(sample)"
   ]
  },
  {
   "cell_type": "markdown",
   "metadata": {},
   "source": [
    "Бывает так, что <b>надо сгенерировать выборку из распределения, которого нет в `scipy.stats`</b>.\n",
    "Для этого надо создать класс, который будет наследоваться от класса `rv_continuous` для непрерывных случайных величин и от класса `rv_discrete` для дискретных случайных величин.\n",
    "Пример есть на [странице](http://docs.scipy.org/doc/scipy/reference/generated/scipy.stats.rv_continuous.html#scipy.stats.rv_continuous).\n",
    "\n",
    "Для примера сгенерируем выборку из распределения с плотностью $f(x) = \\frac{4}{15} x^3 I\\{x \\in [1, 2] = [a, b]\\}$."
   ]
  },
  {
   "cell_type": "code",
   "execution_count": 214,
   "metadata": {},
   "outputs": [
    {
     "name": "stdout",
     "output_type": "stream",
     "text": [
      "Первые 10 значений выборки:\n",
      "[1.05602014 1.2823088  1.99254421 1.86718621 1.7505775  1.31641797\n",
      " 1.97165106 1.89679074 1.67604761 1.30733708]\n",
      "Выборочное среднее: 1.64\n",
      "Выборочная дисперсия: 0.0743\n"
     ]
    }
   ],
   "source": [
    "class cubic_gen(sps.rv_continuous):\n",
    "    def _pdf(self, x):\n",
    "        return 4 * x ** 3 / 15\n",
    "\n",
    "\n",
    "cubic = cubic_gen(a=1, b=2, name='cubic')\n",
    "\n",
    "sample = cubic.rvs(size=200)\n",
    "print(\n",
    "    f'Первые 10 значений выборки:\\n{sample[:10]}\\n'\n",
    "    f'Выборочное среднее: {sample.mean():.3}\\n'\n",
    "    f'Выборочная дисперсия: {sample.var():.3}'\n",
    ")"
   ]
  },
  {
   "cell_type": "markdown",
   "metadata": {},
   "source": [
    "Если дискретная случайная величина может принимать небольшое число значений, то можно не создавать новый класс, как показано выше, а явно указать эти значения и из вероятности."
   ]
  },
  {
   "cell_type": "code",
   "execution_count": 215,
   "metadata": {},
   "outputs": [
    {
     "name": "stdout",
     "output_type": "stream",
     "text": [
      "Первые 10 значений выборки:\n",
      "[1 1 1 3 3 3 3 3 3 1]\n",
      "Выборочное среднее: 1.81\n",
      "Частота значений по выборке: 0.55 0.09 0.36\n"
     ]
    }
   ],
   "source": [
    "some_distribution = sps.rv_discrete(\n",
    "    name='some_distribution', \n",
    "    values=(\n",
    "        [1, 2, 3],       # Значения\n",
    "        [0.6, 0.1, 0.3]  # Вероятности\n",
    "    )\n",
    ")\n",
    "\n",
    "sample = some_distribution.rvs(size=200)\n",
    "print(\n",
    "    f'Первые 10 значений выборки:\\n{sample[:10]}\\n'\n",
    "    f'Выборочное среднее: {sample.mean():.3}\\n'\n",
    "    'Частота значений по выборке:',\n",
    "    (sample == 1).mean(),\n",
    "    (sample == 2).mean(),\n",
    "    (sample == 3).mean()\n",
    ")"
   ]
  },
  {
   "cell_type": "markdown",
   "metadata": {},
   "source": [
    "<div style=\"text-align: right\"><i>Подготовил <a href=\"https://github.com/andrewsonin\">Андрей Сонин</a>"
   ]
  }
 ],
 "metadata": {
  "kernelspec": {
   "display_name": "Python 3",
   "language": "python",
   "name": "python3"
  },
  "language_info": {
   "codemirror_mode": {
    "name": "ipython",
    "version": 3
   },
   "file_extension": ".py",
   "mimetype": "text/x-python",
   "name": "python",
   "nbconvert_exporter": "python",
   "pygments_lexer": "ipython3",
   "version": "3.7.6"
  }
 },
 "nbformat": 4,
 "nbformat_minor": 4
}
